{
 "cells": [
  {
   "cell_type": "code",
   "execution_count": 1,
   "metadata": {},
   "outputs": [],
   "source": [
    "#import statements\n",
    "import datetime\n",
    "import numpy as np\n",
    "import pandas as pd\n",
    "import plotly.graph_objects as go\n",
    "import plotly.express as px\n",
    "import pickle\n",
    "import seaborn as sns\n",
    "import matplotlib.pyplot as plt\n",
    "from scipy import stats\n",
    "\n",
    "#from keypass import NOAA_api\n",
    "import pylab as pl\n",
    "from IPython import display\n",
    "\n",
    "from functools import partial\n",
    "import pyproj\n",
    "from sklearn import datasets\n",
    "from sklearn.tree import DecisionTreeRegressor\n",
    "from sklearn.utils import shuffle\n",
    "from sklearn.linear_model import LogisticRegression, LinearRegression\n",
    "from sklearn.ensemble import RandomForestRegressor\n",
    "from sklearn.model_selection import train_test_split\n",
    "from sklearn.metrics import mean_squared_error, r2_score,explained_variance_score\n",
    "from numpy import absolute\n",
    "from numpy import mean\n",
    "from numpy import std\n",
    "from sklearn.model_selection import cross_val_score\n",
    "from sklearn.model_selection import RepeatedKFold"
   ]
  },
  {
   "cell_type": "markdown",
   "metadata": {},
   "source": [
    "### $TCO_2$ will be target value of final model. The goal of the ML model will be to fill gaps in the dataset in which the target value is missing (~60% of rows). \n",
    "\n",
    "First, the gaps in the input variables for the model were filled. The variables missing >5% of rows [gamma, oxygen, apparent O2 utilization, nitrate, silicate, phosphate, total alkilinity, pH] were filled with individual random forest models. \n",
    "\n",
    "Startby loading the filled and filtered dataset.\n"
   ]
  },
  {
   "cell_type": "code",
   "execution_count": 3,
   "metadata": {},
   "outputs": [
    {
     "name": "stdout",
     "output_type": "stream",
     "text": [
      "1218966\n"
     ]
    },
    {
     "name": "stderr",
     "output_type": "stream",
     "text": [
      "C:\\Users\\ossan\\anaconda3\\lib\\site-packages\\numpy\\lib\\arraysetops.py:569: FutureWarning: elementwise comparison failed; returning scalar instead, but in the future will perform elementwise comparison\n",
      "  mask |= (ar1 == a)\n"
     ]
    }
   ],
   "source": [
    "df = pd.read_csv('C:\\\\Users\\\\ossan\\\\DATA606\\\\DATA\\\\filledNArows.csv',index_col=0) #save metrics \n",
    "print(len(df))"
   ]
  },
  {
   "cell_type": "code",
   "execution_count": 3,
   "metadata": {},
   "outputs": [
    {
     "name": "stdout",
     "output_type": "stream",
     "text": [
      "Index(['cruise', 'station', 'cast', 'year', 'month', 'day', 'latitude',\n",
      "       'longitude', 'bottomdepth', 'maxsampdepth', 'pressure', 'depth',\n",
      "       'temperature', 'theta', 'salinity', 'sigma0', 'sigma1', 'sigma2',\n",
      "       'sigma3', 'gamma', 'oxygen', 'aou', 'nitrate', 'nitrite', 'silicate',\n",
      "       'phosphate', 'talk', 'phts25p0', 'phtsinsitutp', 'tco2'],\n",
      "      dtype='object')\n",
      "cruise           0.00\n",
      "station          0.00\n",
      "cast             0.00\n",
      "year             0.00\n",
      "month            0.00\n",
      "day              0.00\n",
      "latitude         0.00\n",
      "longitude        0.00\n",
      "bottomdepth      0.00\n",
      "maxsampdepth     0.00\n",
      "pressure         0.00\n",
      "depth            0.00\n",
      "temperature      0.00\n",
      "theta            0.00\n",
      "salinity         0.00\n",
      "sigma0           0.00\n",
      "sigma1           0.00\n",
      "sigma2           0.00\n",
      "sigma3           0.00\n",
      "gamma            0.00\n",
      "oxygen           0.00\n",
      "aou              0.00\n",
      "nitrate          0.00\n",
      "nitrite          0.00\n",
      "silicate         0.00\n",
      "phosphate        0.00\n",
      "talk             0.00\n",
      "phts25p0         0.00\n",
      "phtsinsitutp     0.00\n",
      "tco2            64.36\n",
      "dtype: float64\n"
     ]
    }
   ],
   "source": [
    "print(df.columns) \n",
    "### we have filled all the nas of the input variables \n",
    "print(round(df.isna().sum()/len(df)*100,2))"
   ]
  },
  {
   "cell_type": "markdown",
   "metadata": {},
   "source": [
    "### Make a train test validation dataset for the tco2 model. Shuffle the dataset. "
   ]
  },
  {
   "cell_type": "code",
   "execution_count": 4,
   "metadata": {},
   "outputs": [
    {
     "name": "stdout",
     "output_type": "stream",
     "text": [
      "rows for co2 training  434461\n",
      "rows with empty co2 values  784505\n"
     ]
    }
   ],
   "source": [
    "df_emptyCO2 = df[pd.isnull(df).any(axis=1)]\n",
    "dfCO2 =df.dropna()\n",
    "dfCO2 = shuffle(dfCO2, random_state=1)\n",
    "print('rows for co2 training ',len(dfCO2))\n",
    "print('rows with empty co2 values ',len(df_emptyCO2))"
   ]
  },
  {
   "cell_type": "code",
   "execution_count": 5,
   "metadata": {},
   "outputs": [
    {
     "name": "stdout",
     "output_type": "stream",
     "text": [
      "Total rows 434461 training 260676 test 86892 validation 86893\n"
     ]
    }
   ],
   "source": [
    "ratio = [.6,.2,.2]\n",
    "#split to train, test validation sets \n",
    "train = dfCO2.iloc[0:int(ratio[0]*dfCO2.shape[0])]\n",
    "test = dfCO2.iloc[int(ratio[0]*dfCO2.shape[0]):int((ratio[1]+ratio[0])*dfCO2.shape[0])]\n",
    "validation = dfCO2.iloc[int((ratio[1]+ratio[0])*dfCO2.shape[0]):(dfCO2.shape[0])]\n",
    "print('Total rows ' + str(dfCO2.shape[0]) +\" training \"+str(len(train))+ \n",
    "      \" test \" + str(len(test))+ \" validation \" +str(len(validation)))"
   ]
  },
  {
   "cell_type": "markdown",
   "metadata": {},
   "source": [
    "### Train, test validate random forest, decision tree, and linear regression. Save metrics to decided on a model for optimization. "
   ]
  },
  {
   "cell_type": "code",
   "execution_count": null,
   "metadata": {},
   "outputs": [],
   "source": [
    "#This function takes the data split input and trains and tests the dataset per column to \n",
    "#find metrics for decision tree (DT), linear regression (LR), and \n",
    "#random forest (RF) and return the R2, MSE, and explained variance (EVS) for each \n",
    "#column and model type \n",
    "\n",
    "def trainAndTest(train,test,c): \n",
    "    MSE,R2,EVS,MODEL,COL = [],[],[],[],[]\n",
    "    DT = DecisionTreeRegressor(); LR = LinearRegression();  RF= RandomForestRegressor()\n",
    "    #format the splits for multiple input/output regression training \n",
    "    inputsTRAIN=train.iloc[:,0:(c-1)];outputsTRAIN=train.loc[:,'tco2']\n",
    "    inputsTEST=test.iloc[:,0:(c-1)];outputsTEST=test.loc[:,'tco2']\n",
    "    inputsVAL=validation.iloc[:,0:(c-1)];outputsVAL=validation.loc[:,'tco2']\n",
    "    for i in range(0,3): \n",
    "        MODEL.append('LR');MODEL.append('RF'); MODEL.append('DT')\n",
    "    for i in range(0,3): COL.append('TRAIN')\n",
    "    for i in range(0,3): COL.append('TEST')\n",
    "    for i in range(0,3): COL.append('VAL')\n",
    "    #fit models \n",
    "    LR.fit(inputsTRAIN,outputsTRAIN) \n",
    "    RF.fit(inputsTRAIN, outputsTRAIN)\n",
    "    DT.fit(inputsTRAIN,outputsTRAIN) \n",
    "    \n",
    "    MSE.append(mean_squared_error(outputsTRAIN, LR.predict(inputsTRAIN)))\n",
    "    R2.append(r2_score(outputsTRAIN, LR.predict(inputsTRAIN)))\n",
    "    EVS.append(explained_variance_score(outputsTRAIN, LR.predict(inputsTRAIN)))\n",
    "    MSE.append(mean_squared_error(outputsTRAIN, RF.predict(inputsTRAIN)))\n",
    "    R2.append(r2_score(outputsTRAIN, RF.predict(inputsTRAIN)))\n",
    "    EVS.append(explained_variance_score(outputsTRAIN, RF.predict(inputsTRAIN)))\n",
    "    MSE.append(mean_squared_error(outputsTRAIN, DT.predict(inputsTRAIN)))\n",
    "    R2.append(r2_score(outputsTRAIN, DT.predict(inputsTRAIN)))\n",
    "    EVS.append(explained_variance_score(outputsTRAIN, DT.predict(inputsTRAIN)))\n",
    "    \n",
    "    MSE.append(mean_squared_error(outputsTEST, LR.predict(inputsTEST)))\n",
    "    R2.append(r2_score(outputsTEST, LR.predict(inputsTEST)))\n",
    "    EVS.append(explained_variance_score(outputsTEST, LR.predict(inputsTEST)))\n",
    "    MSE.append(mean_squared_error(outputsTEST, RF.predict(inputsTEST)))\n",
    "    R2.append(r2_score(outputsTEST, RF.predict(inputsTEST)))\n",
    "    EVS.append(explained_variance_score(outputsTEST, RF.predict(inputsTEST)))\n",
    "    MSE.append(mean_squared_error(outputsTEST, DT.predict(inputsTEST)))\n",
    "    R2.append(r2_score(outputsTEST, DT.predict(inputsTEST)))\n",
    "    EVS.append(explained_variance_score(outputsTEST, DT.predict(inputsTEST)))\n",
    "    \n",
    "    MSE.append(mean_squared_error(outputsVAL, LR.predict(inputsVAL)))\n",
    "    R2.append(r2_score(outputsVAL, LR.predict(inputsVAL)))\n",
    "    EVS.append(explained_variance_score(outputsVAL, LR.predict(inputsVAL)))\n",
    "    MSE.append(mean_squared_error(outputsVAL, RF.predict(inputsVAL)))\n",
    "    R2.append(r2_score(outputsVAL, RF.predict(inputsVAL)))\n",
    "    EVS.append(explained_variance_score(outputsVAL, RF.predict(inputsVAL)))\n",
    "    MSE.append(mean_squared_error(outputsVAL, DT.predict(inputsVAL)))\n",
    "    R2.append(r2_score(outputsVAL, DT.predict(inputsVAL)))\n",
    "    EVS.append(explained_variance_score(outputsVAL, DT.predict(inputsVAL)))\n",
    "\n",
    "    return pd.DataFrame(list(zip(MODEL,COL,MSE,R2,EVS)),columns=['Model','Set','MSE','R2','EVS'])\n",
    "\n",
    "traintest=trainAndTest(train,test,30) \n",
    "traintest.to_csv('C:\\\\Users\\\\ossan\\\\DATA606\\\\DATA\\\\CO2_ML_screen.csv') #save metrics \n",
    "traintest"
   ]
  },
  {
   "cell_type": "code",
   "execution_count": 106,
   "metadata": {},
   "outputs": [
    {
     "data": {
      "text/html": [
       "<div>\n",
       "<style scoped>\n",
       "    .dataframe tbody tr th:only-of-type {\n",
       "        vertical-align: middle;\n",
       "    }\n",
       "\n",
       "    .dataframe tbody tr th {\n",
       "        vertical-align: top;\n",
       "    }\n",
       "\n",
       "    .dataframe thead th {\n",
       "        text-align: right;\n",
       "    }\n",
       "</style>\n",
       "<table border=\"1\" class=\"dataframe\">\n",
       "  <thead>\n",
       "    <tr style=\"text-align: right;\">\n",
       "      <th></th>\n",
       "      <th>Model</th>\n",
       "      <th>Set</th>\n",
       "      <th>MSE</th>\n",
       "      <th>R2</th>\n",
       "      <th>EVS</th>\n",
       "    </tr>\n",
       "  </thead>\n",
       "  <tbody>\n",
       "    <tr>\n",
       "      <th>2</th>\n",
       "      <td>DT</td>\n",
       "      <td>TRAIN</td>\n",
       "      <td>0.000048</td>\n",
       "      <td>1.000000</td>\n",
       "      <td>1.000000</td>\n",
       "    </tr>\n",
       "    <tr>\n",
       "      <th>1</th>\n",
       "      <td>RF</td>\n",
       "      <td>TRAIN</td>\n",
       "      <td>9.843558</td>\n",
       "      <td>0.999160</td>\n",
       "      <td>0.999160</td>\n",
       "    </tr>\n",
       "    <tr>\n",
       "      <th>7</th>\n",
       "      <td>RF</td>\n",
       "      <td>VAL</td>\n",
       "      <td>68.706188</td>\n",
       "      <td>0.994179</td>\n",
       "      <td>0.994179</td>\n",
       "    </tr>\n",
       "    <tr>\n",
       "      <th>4</th>\n",
       "      <td>RF</td>\n",
       "      <td>TEST</td>\n",
       "      <td>76.959294</td>\n",
       "      <td>0.993455</td>\n",
       "      <td>0.993455</td>\n",
       "    </tr>\n",
       "    <tr>\n",
       "      <th>8</th>\n",
       "      <td>DT</td>\n",
       "      <td>VAL</td>\n",
       "      <td>154.338437</td>\n",
       "      <td>0.986924</td>\n",
       "      <td>0.986924</td>\n",
       "    </tr>\n",
       "    <tr>\n",
       "      <th>5</th>\n",
       "      <td>DT</td>\n",
       "      <td>TEST</td>\n",
       "      <td>166.839599</td>\n",
       "      <td>0.985812</td>\n",
       "      <td>0.985812</td>\n",
       "    </tr>\n",
       "    <tr>\n",
       "      <th>6</th>\n",
       "      <td>LR</td>\n",
       "      <td>VAL</td>\n",
       "      <td>184.831512</td>\n",
       "      <td>0.984341</td>\n",
       "      <td>0.984341</td>\n",
       "    </tr>\n",
       "    <tr>\n",
       "      <th>3</th>\n",
       "      <td>LR</td>\n",
       "      <td>TEST</td>\n",
       "      <td>203.481061</td>\n",
       "      <td>0.982696</td>\n",
       "      <td>0.982697</td>\n",
       "    </tr>\n",
       "    <tr>\n",
       "      <th>0</th>\n",
       "      <td>LR</td>\n",
       "      <td>TRAIN</td>\n",
       "      <td>209.001695</td>\n",
       "      <td>0.982164</td>\n",
       "      <td>0.982164</td>\n",
       "    </tr>\n",
       "  </tbody>\n",
       "</table>\n",
       "</div>"
      ],
      "text/plain": [
       "  Model    Set         MSE        R2       EVS\n",
       "2    DT  TRAIN    0.000048  1.000000  1.000000\n",
       "1    RF  TRAIN    9.843558  0.999160  0.999160\n",
       "7    RF    VAL   68.706188  0.994179  0.994179\n",
       "4    RF   TEST   76.959294  0.993455  0.993455\n",
       "8    DT    VAL  154.338437  0.986924  0.986924\n",
       "5    DT   TEST  166.839599  0.985812  0.985812\n",
       "6    LR    VAL  184.831512  0.984341  0.984341\n",
       "3    LR   TEST  203.481061  0.982696  0.982697\n",
       "0    LR  TRAIN  209.001695  0.982164  0.982164"
      ]
     },
     "execution_count": 106,
     "metadata": {},
     "output_type": "execute_result"
    }
   ],
   "source": [
    "traintest.sort_values(by=['R2'],ascending=False)"
   ]
  },
  {
   "cell_type": "markdown",
   "metadata": {},
   "source": [
    "### Random forest is the best performing model (R2= .99 on test and validation sets). \n",
    "\n",
    "Train with cross validation and save. "
   ]
  },
  {
   "cell_type": "code",
   "execution_count": 18,
   "metadata": {},
   "outputs": [],
   "source": [
    "RF= RandomForestRegressor()\n",
    "inputsTRAIN=train.iloc[:,0:((len(train.columns))-1)];outputsTRAIN=train.loc[:,'tco2']\n",
    "inputsTEST=test.iloc[:,0:((len(train.columns))-1)];outputsTEST=test.loc[:,'tco2']\n",
    "inputsVAL=validation.iloc[:,0:((len(train.columns))-1)];outputsVAL=validation.loc[:,'tco2']\n"
   ]
  },
  {
   "cell_type": "code",
   "execution_count": 111,
   "metadata": {},
   "outputs": [
    {
     "name": "stdout",
     "output_type": "stream",
     "text": [
      "Mean Absolute Error : 4.387 Std Deviation (0.065)\n"
     ]
    }
   ],
   "source": [
    "# evaluate multioutput regression model with k-fold cross-validation\n",
    "cv = RepeatedKFold(n_splits=10, n_repeats=2, random_state=1)\n",
    "n_scores = cross_val_score(RF, inputsTEST,outputsTEST, scoring='neg_mean_absolute_error', cv=cv, n_jobs=-1)\n",
    "# force the scores to be positive\n",
    "n_scores = absolute(n_scores)\n",
    "\n",
    "print('Mean Absolute Error : %.3f Std Deviation (%.3f)' % (mean(n_scores), std(n_scores)))"
   ]
  },
  {
   "cell_type": "code",
   "execution_count": 19,
   "metadata": {},
   "outputs": [],
   "source": [
    "RF.fit(inputsTRAIN,outputsTRAIN)\n",
    "trainResults= RF.predict(inputsTRAIN)\n",
    "testResults = RF.predict(inputsTEST)\n",
    "valResults = RF.predict(inputsVAL)"
   ]
  },
  {
   "cell_type": "code",
   "execution_count": 10,
   "metadata": {},
   "outputs": [
    {
     "data": {
      "text/html": [
       "<div>\n",
       "<style scoped>\n",
       "    .dataframe tbody tr th:only-of-type {\n",
       "        vertical-align: middle;\n",
       "    }\n",
       "\n",
       "    .dataframe tbody tr th {\n",
       "        vertical-align: top;\n",
       "    }\n",
       "\n",
       "    .dataframe thead th {\n",
       "        text-align: right;\n",
       "    }\n",
       "</style>\n",
       "<table border=\"1\" class=\"dataframe\">\n",
       "  <thead>\n",
       "    <tr style=\"text-align: right;\">\n",
       "      <th></th>\n",
       "      <th>Importance</th>\n",
       "      <th>Column</th>\n",
       "    </tr>\n",
       "  </thead>\n",
       "  <tbody>\n",
       "    <tr>\n",
       "      <th>0</th>\n",
       "      <td>0.001101</td>\n",
       "      <td>cruise</td>\n",
       "    </tr>\n",
       "    <tr>\n",
       "      <th>1</th>\n",
       "      <td>0.000550</td>\n",
       "      <td>station</td>\n",
       "    </tr>\n",
       "    <tr>\n",
       "      <th>2</th>\n",
       "      <td>0.000102</td>\n",
       "      <td>cast</td>\n",
       "    </tr>\n",
       "    <tr>\n",
       "      <th>3</th>\n",
       "      <td>0.001766</td>\n",
       "      <td>year</td>\n",
       "    </tr>\n",
       "    <tr>\n",
       "      <th>4</th>\n",
       "      <td>0.000174</td>\n",
       "      <td>month</td>\n",
       "    </tr>\n",
       "    <tr>\n",
       "      <th>5</th>\n",
       "      <td>0.000202</td>\n",
       "      <td>day</td>\n",
       "    </tr>\n",
       "    <tr>\n",
       "      <th>6</th>\n",
       "      <td>0.001458</td>\n",
       "      <td>latitude</td>\n",
       "    </tr>\n",
       "    <tr>\n",
       "      <th>7</th>\n",
       "      <td>0.000796</td>\n",
       "      <td>longitude</td>\n",
       "    </tr>\n",
       "    <tr>\n",
       "      <th>8</th>\n",
       "      <td>0.000476</td>\n",
       "      <td>bottomdepth</td>\n",
       "    </tr>\n",
       "    <tr>\n",
       "      <th>9</th>\n",
       "      <td>0.000528</td>\n",
       "      <td>maxsampdepth</td>\n",
       "    </tr>\n",
       "    <tr>\n",
       "      <th>10</th>\n",
       "      <td>0.000447</td>\n",
       "      <td>pressure</td>\n",
       "    </tr>\n",
       "    <tr>\n",
       "      <th>11</th>\n",
       "      <td>0.000335</td>\n",
       "      <td>depth</td>\n",
       "    </tr>\n",
       "    <tr>\n",
       "      <th>12</th>\n",
       "      <td>0.000669</td>\n",
       "      <td>temperature</td>\n",
       "    </tr>\n",
       "    <tr>\n",
       "      <th>13</th>\n",
       "      <td>0.000724</td>\n",
       "      <td>theta</td>\n",
       "    </tr>\n",
       "    <tr>\n",
       "      <th>14</th>\n",
       "      <td>0.001715</td>\n",
       "      <td>salinity</td>\n",
       "    </tr>\n",
       "    <tr>\n",
       "      <th>15</th>\n",
       "      <td>0.063974</td>\n",
       "      <td>sigma0</td>\n",
       "    </tr>\n",
       "    <tr>\n",
       "      <th>16</th>\n",
       "      <td>0.002182</td>\n",
       "      <td>sigma1</td>\n",
       "    </tr>\n",
       "    <tr>\n",
       "      <th>17</th>\n",
       "      <td>0.000528</td>\n",
       "      <td>sigma2</td>\n",
       "    </tr>\n",
       "    <tr>\n",
       "      <th>18</th>\n",
       "      <td>0.001787</td>\n",
       "      <td>sigma3</td>\n",
       "    </tr>\n",
       "    <tr>\n",
       "      <th>19</th>\n",
       "      <td>0.139876</td>\n",
       "      <td>gamma</td>\n",
       "    </tr>\n",
       "    <tr>\n",
       "      <th>20</th>\n",
       "      <td>0.002292</td>\n",
       "      <td>oxygen</td>\n",
       "    </tr>\n",
       "    <tr>\n",
       "      <th>21</th>\n",
       "      <td>0.023270</td>\n",
       "      <td>aou</td>\n",
       "    </tr>\n",
       "    <tr>\n",
       "      <th>22</th>\n",
       "      <td>0.066998</td>\n",
       "      <td>nitrate</td>\n",
       "    </tr>\n",
       "    <tr>\n",
       "      <th>23</th>\n",
       "      <td>0.000396</td>\n",
       "      <td>nitrite</td>\n",
       "    </tr>\n",
       "    <tr>\n",
       "      <th>24</th>\n",
       "      <td>0.016204</td>\n",
       "      <td>silicate</td>\n",
       "    </tr>\n",
       "    <tr>\n",
       "      <th>25</th>\n",
       "      <td>0.611449</td>\n",
       "      <td>phosphate</td>\n",
       "    </tr>\n",
       "    <tr>\n",
       "      <th>26</th>\n",
       "      <td>0.034781</td>\n",
       "      <td>talk</td>\n",
       "    </tr>\n",
       "    <tr>\n",
       "      <th>27</th>\n",
       "      <td>0.022013</td>\n",
       "      <td>phts25p0</td>\n",
       "    </tr>\n",
       "    <tr>\n",
       "      <th>28</th>\n",
       "      <td>0.003208</td>\n",
       "      <td>phtsinsitutp</td>\n",
       "    </tr>\n",
       "  </tbody>\n",
       "</table>\n",
       "</div>"
      ],
      "text/plain": [
       "    Importance        Column\n",
       "0     0.001101        cruise\n",
       "1     0.000550       station\n",
       "2     0.000102          cast\n",
       "3     0.001766          year\n",
       "4     0.000174         month\n",
       "5     0.000202           day\n",
       "6     0.001458      latitude\n",
       "7     0.000796     longitude\n",
       "8     0.000476   bottomdepth\n",
       "9     0.000528  maxsampdepth\n",
       "10    0.000447      pressure\n",
       "11    0.000335         depth\n",
       "12    0.000669   temperature\n",
       "13    0.000724         theta\n",
       "14    0.001715      salinity\n",
       "15    0.063974        sigma0\n",
       "16    0.002182        sigma1\n",
       "17    0.000528        sigma2\n",
       "18    0.001787        sigma3\n",
       "19    0.139876         gamma\n",
       "20    0.002292        oxygen\n",
       "21    0.023270           aou\n",
       "22    0.066998       nitrate\n",
       "23    0.000396       nitrite\n",
       "24    0.016204      silicate\n",
       "25    0.611449     phosphate\n",
       "26    0.034781          talk\n",
       "27    0.022013      phts25p0\n",
       "28    0.003208  phtsinsitutp"
      ]
     },
     "execution_count": 10,
     "metadata": {},
     "output_type": "execute_result"
    }
   ],
   "source": [
    "feature = pd.DataFrame(list(zip(RF.feature_importances_,inputsTEST.columns)),columns=['Importance','Column'])\n",
    "feature"
   ]
  },
  {
   "cell_type": "markdown",
   "metadata": {},
   "source": [
    "### Visualize feature importance and ML model performance\n",
    "\n",
    "https://towardsdatascience.com/explain-any-models-with-the-shap-values-use-the-kernelexplainer-79de9464897a"
   ]
  },
  {
   "cell_type": "code",
   "execution_count": 123,
   "metadata": {},
   "outputs": [
    {
     "data": {
      "image/png": "[encoded data removed]",
      "text/plain": [
       "<Figure size 576x396 with 1 Axes>"
      ]
     },
     "metadata": {},
     "output_type": "display_data"
    }
   ],
   "source": [
    "importances = RF.feature_importances_\n",
    "indices = np.argsort(importances)\n",
    "features = X.columns\n",
    "\n",
    "plt.barh(range(len(features)), importances[indices], color='b', align='center')\n",
    "plt.yticks(range(len(features)), [features[i] for i in indices],fontsize=13)\n",
    "plt.xlabel('Relative Importance',fontsize=14)\n",
    "plt.show()"
   ]
  },
  {
   "cell_type": "code",
   "execution_count": 111,
   "metadata": {},
   "outputs": [
    {
     "data": {
      "image/png": "[encoded data removed]",
      "text/plain": [
       "<Figure size 576x396 with 1 Axes>"
      ]
     },
     "metadata": {},
     "output_type": "display_data"
    }
   ],
   "source": [
    "#plt.title('Feature Importances',fontweight = 'bold')\n",
    "plt.barh(range(9), importances[indices][20:29], color='b', align='center')\n",
    "plt.yticks(range(9), [features[i] for i in indices[20:29]],fontsize=14)\n",
    "plt.xlabel('Relative Importance',fontsize=14)\n",
    "plt.show()"
   ]
  },
  {
   "cell_type": "code",
   "execution_count": 120,
   "metadata": {},
   "outputs": [
    {
     "data": {
      "image/png": "[encoded data removed]",
      "text/plain": [
       "<Figure size 576x396 with 1 Axes>"
      ]
     },
     "metadata": {},
     "output_type": "display_data"
    }
   ],
   "source": [
    "\n",
    "plt.barh(range(19), importances[indices][0:19], color='b', align='center')\n",
    "plt.yticks(range(19), [features[i] for i in indices[0:19]],fontsize=14)\n",
    "plt.xlabel('Relative Importance',fontsize=14)\n",
    "plt.show()"
   ]
  },
  {
   "cell_type": "code",
   "execution_count": 25,
   "metadata": {},
   "outputs": [
    {
     "data": {
      "text/plain": [
       "array([2323.361, 2304.979, 2046.094, ..., 2253.795, 2165.653, 2162.805])"
      ]
     },
     "execution_count": 25,
     "metadata": {},
     "output_type": "execute_result"
    }
   ],
   "source": [
    "testResults"
   ]
  },
  {
   "cell_type": "code",
   "execution_count": 30,
   "metadata": {},
   "outputs": [
    {
     "data": {
      "image/png": "[encoded data removed]",
      "text/plain": [
       "<Figure size 1080x288 with 3 Axes>"
      ]
     },
     "metadata": {
      "needs_background": "light"
     },
     "output_type": "display_data"
    }
   ],
   "source": [
    "\n",
    "fig, ax= plt.subplots(1,3,figsize=(15,4))\n",
    "y = 18; modelLabel = 'Decision Tree'\n",
    "\n",
    "ax[1].scatter(testResults,outputsTEST,color='black',label='Test Set',s=3,marker='+')\n",
    "ax[1].plot(testResults,testResults,color='red',label='Actual')\n",
    "ax[0].scatter(trainResults,outputsTRAIN,color='purple',label='Train Set',s=3,marker='+')\n",
    "ax[0].plot(trainResults,trainResults,color='red',label='Actual')\n",
    "ax[2].scatter(valResults,outputsVAL,color='blue',label='Validation Set',s=3,marker='+')\n",
    "ax[2].plot(valResults,valResults,color='red',label='Actual')\n",
    "ax[1].set_title('Test Set',fontsize=14,fontweight ='bold');ax[0].set_title('Train Set',fontsize=14,fontweight ='bold')\n",
    "ax[2].set_title('Validation Set',fontsize=14,fontweight ='bold')\n",
    "ax[0].set_ylabel('tco2')\n",
    "for x in range(0,3):\n",
    "    ax[x].legend(fontsize=12,loc='lower right')\n",
    "    ax[x].set_xlabel('tco2',fontsize=11)"
   ]
  },
  {
   "cell_type": "code",
   "execution_count": 124,
   "metadata": {},
   "outputs": [],
   "source": [
    "\n",
    "filename = 'C:\\\\Users\\\\ossan\\\\DATA606\\\\MODELS\\\\CO2_RF.sav'\n",
    "pickle.dump(RF, open(filename, 'wb'))"
   ]
  },
  {
   "cell_type": "markdown",
   "metadata": {},
   "source": [
    "### I want to know if phosphate/other variables feature importance changes when using the original dataset wihtout any filled NA rows. The RF model is trained with this data."
   ]
  },
  {
   "cell_type": "code",
   "execution_count": 21,
   "metadata": {},
   "outputs": [],
   "source": [
    "df1= pd.read_csv('C:\\\\Users\\\\ossan\\\\DATA606\\\\DATA\\\\cleanedFINAL.csv')\n",
    "d = ['minute','hour','Date','depthBinned','Ocean Region','fco2temp',\n",
    "            'pcfc11','cfc11','cfc11','cfc12','pcfc12','pcfc113','pccl4','psf6','bottle']\n",
    "#shuffle data, replace NAN\n",
    "s = shuffle(df1.drop(columns=d),random_state = 1)\n",
    "s=s.replace(-9999.0,np.nan)\n",
    "s = s.dropna()"
   ]
  },
  {
   "cell_type": "code",
   "execution_count": 22,
   "metadata": {},
   "outputs": [
    {
     "name": "stdout",
     "output_type": "stream",
     "text": [
      "Total rows 127997 training 76798 test 25599 validation 25600\n"
     ]
    }
   ],
   "source": [
    "reorder=['cruise', 'station', 'cast', 'year', 'month', 'day', 'latitude',\n",
    "       'longitude', 'bottomdepth', 'maxsampdepth', 'pressure', 'depth',\n",
    "       'temperature', 'theta', 'salinity', 'sigma0', 'sigma1', 'sigma2',\n",
    "       'sigma3', 'gamma', 'oxygen', 'aou', 'nitrate', 'nitrite', 'silicate',\n",
    "       'phosphate',  'talk', 'phts25p0', 'phtsinsitutp','tco2']\n",
    "\n",
    "s=s[reorder];ratio = [.6,.2,.2]\n",
    "#split to train, test validation sets \n",
    "train =s.iloc[0:int(ratio[0]*s.shape[0])]\n",
    "test = s.iloc[int(ratio[0]*s.shape[0]):int((ratio[1]+ratio[0])*s.shape[0])]\n",
    "validation = s.iloc[int((ratio[1]+ratio[0])*s.shape[0]):(s.shape[0])]\n",
    "print('Total rows ' + str(s.shape[0]) +\" training \"+str(len(train))+ \n",
    "      \" test \" + str(len(test))+ \" validation \" +str(len(validation)))"
   ]
  },
  {
   "cell_type": "code",
   "execution_count": 23,
   "metadata": {},
   "outputs": [
    {
     "name": "stdout",
     "output_type": "stream",
     "text": [
      "127997 Index(['cruise', 'station', 'cast', 'year', 'month', 'day', 'latitude',\n",
      "       'longitude', 'bottomdepth', 'maxsampdepth', 'pressure', 'depth',\n",
      "       'temperature', 'theta', 'salinity', 'sigma0', 'sigma1', 'sigma2',\n",
      "       'sigma3', 'gamma', 'oxygen', 'aou', 'nitrate', 'nitrite', 'silicate',\n",
      "       'phosphate', 'talk', 'phts25p0', 'phtsinsitutp', 'tco2'],\n",
      "      dtype='object')\n"
     ]
    }
   ],
   "source": [
    "print(len(shuffled),shuffled.columns)\n",
    "RF= RandomForestRegressor()\n",
    "inputsTR=train.iloc[:,0:((len(train.columns))-1)];outputsTRAIN=train.loc[:,'tco2']\n",
    "inputsTE=test.iloc[:,0:((len(train.columns))-1)];outputsTEST=test.loc[:,'tco2']\n",
    "inputsV=validation.iloc[:,0:((len(train.columns))-1)];outputsVAL=validation.loc[:,'tco2']\n",
    "\n",
    "RF.fit(inputsTRAIN,outputsTRAIN)\n",
    "trainResults= RF.predict(inputsTR)\n",
    "testResults = RF.predict(inputsTE)\n",
    "valResults = RF.predict(inputsV)"
   ]
  },
  {
   "cell_type": "markdown",
   "metadata": {},
   "source": [
    "### The feature importances do not exhibit any noticeable change. "
   ]
  },
  {
   "cell_type": "code",
   "execution_count": 25,
   "metadata": {},
   "outputs": [
    {
     "data": {
      "image/png": "[encoded data removed]",
      "text/plain": [
       "<Figure size 432x288 with 1 Axes>"
      ]
     },
     "metadata": {
      "needs_background": "light"
     },
     "output_type": "display_data"
    }
   ],
   "source": [
    "importances = RF.feature_importances_\n",
    "indices = np.argsort(importances)\n",
    "features = inputsTEST.columns\n",
    "\n",
    "plt.barh(range(len(features)), importances[indices], color='b', align='center')\n",
    "plt.yticks(range(len(features)), [features[i] for i in indices],fontsize=13)\n",
    "plt.xlabel('Relative Importance',fontsize=14)\n",
    "plt.show()"
   ]
  },
  {
   "cell_type": "markdown",
   "metadata": {},
   "source": [
    "### Fill in the tCO2 values with the model. Add a column to mark if they were filled or not. "
   ]
  },
  {
   "cell_type": "code",
   "execution_count": 50,
   "metadata": {},
   "outputs": [
    {
     "name": "stdout",
     "output_type": "stream",
     "text": [
      "rows to fill tco2 784505\n"
     ]
    },
    {
     "name": "stderr",
     "output_type": "stream",
     "text": [
      "C:\\Users\\ossan\\Anaconda3\\lib\\site-packages\\ipykernel_launcher.py:5: SettingWithCopyWarning: \n",
      "A value is trying to be set on a copy of a slice from a DataFrame.\n",
      "Try using .loc[row_indexer,col_indexer] = value instead\n",
      "\n",
      "See the caveats in the documentation: https://pandas.pydata.org/pandas-docs/stable/user_guide/indexing.html#returning-a-view-versus-a-copy\n",
      "  \"\"\"\n"
     ]
    }
   ],
   "source": [
    "filename = 'C:\\\\Users\\\\ossan\\\\DATA606\\\\MODELS\\\\CO2_RF.sav'\n",
    "loaded_RF = pickle.load(open(filename, 'rb'))\n",
    "#get dataframe to fill \n",
    "dfFill = df[df['tco2'].isna()]\n",
    "#add column markers \n",
    "dfFill['Fill']=df['tco2'].isna()\n",
    "print('rows to fill tco2' ,len(dfFill))"
   ]
  },
  {
   "cell_type": "code",
   "execution_count": 73,
   "metadata": {},
   "outputs": [],
   "source": [
    "x = len(dfFill.columns)-2\n",
    "x\n",
    "\n",
    "a=loaded_RF.predict(dfFill.iloc[:,0:x])\n",
    "dfFill.tco2 = a\n",
    "dfFill.tco2"
   ]
  },
  {
   "cell_type": "code",
   "execution_count": 86,
   "metadata": {},
   "outputs": [
    {
     "name": "stdout",
     "output_type": "stream",
     "text": [
      "merged length  1218966\n"
     ]
    }
   ],
   "source": [
    "dfFill2 = df[~df['tco2'].isna()]\n",
    "len(dfFill2)\n",
    "merged=pd.concat([dfFill2,dfFill])\n",
    "print('merged length ',len(merged))"
   ]
  },
  {
   "cell_type": "code",
   "execution_count": 84,
   "metadata": {},
   "outputs": [
    {
     "data": {
      "text/plain": [
       "cruise          0\n",
       "station         0\n",
       "cast            0\n",
       "year            0\n",
       "month           0\n",
       "day             0\n",
       "latitude        0\n",
       "longitude       0\n",
       "bottomdepth     0\n",
       "maxsampdepth    0\n",
       "pressure        0\n",
       "depth           0\n",
       "temperature     0\n",
       "theta           0\n",
       "salinity        0\n",
       "sigma0          0\n",
       "sigma1          0\n",
       "sigma2          0\n",
       "sigma3          0\n",
       "gamma           0\n",
       "oxygen          0\n",
       "aou             0\n",
       "nitrate         0\n",
       "nitrite         0\n",
       "silicate        0\n",
       "phosphate       0\n",
       "talk            0\n",
       "phts25p0        0\n",
       "phtsinsitutp    0\n",
       "tco2            0\n",
       "Fill            0\n",
       "dtype: int64"
      ]
     },
     "execution_count": 84,
     "metadata": {},
     "output_type": "execute_result"
    }
   ],
   "source": [
    "merged.isna().sum()"
   ]
  },
  {
   "cell_type": "code",
   "execution_count": 87,
   "metadata": {},
   "outputs": [],
   "source": [
    "###export for next notebook \n",
    "merged.to_csv('C:\\\\Users\\\\ossan\\\\DATA606\\\\DATA\\\\TCO2_filled.csv')"
   ]
  },
  {
   "cell_type": "code",
   "execution_count": null,
   "metadata": {},
   "outputs": [],
   "source": []
  }
 ],
 "metadata": {
  "kernelspec": {
   "display_name": "Python 3",
   "language": "python",
   "name": "python3"
  },
  "language_info": {
   "codemirror_mode": {
    "name": "ipython",
    "version": 3
   },
   "file_extension": ".py",
   "mimetype": "text/x-python",
   "name": "python",
   "nbconvert_exporter": "python",
   "pygments_lexer": "ipython3",
   "version": "3.7.6"
  }
 },
 "nbformat": 4,
 "nbformat_minor": 4
}
