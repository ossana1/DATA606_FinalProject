{
 "cells": [
  {
   "cell_type": "code",
   "execution_count": 3,
   "metadata": {},
   "outputs": [],
   "source": [
    "#import statements\n",
    "import datetime\n",
    "import numpy as np\n",
    "import pandas as pd\n",
    "import plotly.graph_objects as go\n",
    "import plotly.express as px\n",
    "import pickle\n",
    "import seaborn as sns\n",
    "import matplotlib.pyplot as plt\n",
    "from scipy import stats\n",
    "\n",
    "#from keypass import NOAA_api\n",
    "import pylab as pl\n",
    "from IPython import display\n",
    "\n",
    "from functools import partial\n",
    "import pyproj\n",
    "from sklearn import datasets\n",
    "from sklearn.tree import DecisionTreeRegressor\n",
    "from sklearn.utils import shuffle\n",
    "from sklearn.linear_model import LogisticRegression, LinearRegression\n",
    "from sklearn.ensemble import RandomForestRegressor\n",
    "from sklearn.model_selection import train_test_split\n",
    "from sklearn.metrics import mean_squared_error, r2_score,explained_variance_score\n",
    "from numpy import absolute,mean,std\n",
    "\n",
    "from sklearn.model_selection import cross_val_score\n",
    "from sklearn.model_selection import RepeatedKFold\n",
    "\n",
    "import plotly.graph_objects as go\n",
    "from plotly.subplots import make_subplots\n",
    "import plotly.graph_objects as go\n",
    "import plotly.express as px\n",
    "from ipywidgets import interactive\n",
    "\n"
   ]
  },
  {
   "cell_type": "markdown",
   "metadata": {},
   "source": [
    "## Get the packages needed for the notebook to run in Heroku. "
   ]
  },
  {
   "cell_type": "code",
   "execution_count": 9,
   "metadata": {},
   "outputs": [
    {
     "name": "stdout",
     "output_type": "stream",
     "text": [
      "Note: you may need to restart the kernel to use updated packages.\n"
     ]
    }
   ],
   "source": [
    "#pip freeze > requirements.txt"
   ]
  },
  {
   "cell_type": "code",
   "execution_count": null,
   "metadata": {},
   "outputs": [],
   "source": [
    "# import pkg_resources\n",
    "# import types\n",
    "# def get_imports():\n",
    "#     for name, val in globals().items():\n",
    "#         if isinstance(val, types.ModuleType):\n",
    "#             # Split ensures you get root package, \n",
    "#             # not just imported function\n",
    "#             name = val.__name__.split(\".\")[0]\n",
    "\n",
    "#         elif isinstance(val, type):\n",
    "#             name = val.__module__.split(\".\")[0]\n",
    "\n",
    "#         # Some packages are weird and have different\n",
    "#         # imported names vs. system/pip names. Unfortunately,\n",
    "#         # there is no systematic way to get pip names from\n",
    "#         # a package's imported name. You'll have to add\n",
    "#         # exceptions to this list manually!\n",
    "#         poorly_named_packages = {\n",
    "#             \"PIL\": \"Pillow\",\n",
    "#             \"sklearn\": \"scikit-learn\"\n",
    "#         }\n",
    "#         if name in poorly_named_packages.keys():\n",
    "#             name = poorly_named_packages[name]\n",
    "\n",
    "#         yield name\n",
    "# imports = list(set(get_imports()))\n",
    "\n",
    "# # The only way I found to get the version of the root package\n",
    "# # from only the name of the package is to cross-check the names \n",
    "# # of installed packages vs. imported packages\n",
    "# requirements = []\n",
    "# for m in pkg_resources.working_set:\n",
    "#     if m.project_name in imports and m.project_name!=\"pip\":\n",
    "#         requirements.append((m.project_name, m.version))\n",
    "\n",
    "# for r in requirements:\n",
    "#     print(\"{}=={}\".format(*r))"
   ]
  },
  {
   "cell_type": "markdown",
   "metadata": {},
   "source": [
    "### $TCO_2$ was filled in. Now load the dataset for some visuals. "
   ]
  },
  {
   "cell_type": "code",
   "execution_count": 2,
   "metadata": {},
   "outputs": [
    {
     "name": "stderr",
     "output_type": "stream",
     "text": [
      "C:\\Users\\ossan\\anaconda3\\lib\\site-packages\\numpy\\lib\\arraysetops.py:569: FutureWarning: elementwise comparison failed; returning scalar instead, but in the future will perform elementwise comparison\n",
      "  mask |= (ar1 == a)\n"
     ]
    },
    {
     "name": "stdout",
     "output_type": "stream",
     "text": [
      "1218966\n"
     ]
    }
   ],
   "source": [
    "df =pd.read_csv('C:\\\\Users\\\\ossan\\\\DATA606\\\\DATA\\\\TCO2_filled.csv',index_col=0) #save metrics \n",
    "print(len(df))\n",
    "df['year'] =pd.to_numeric( df['year'])\n",
    "df['year'] =df['year'].astype(int)\n",
    "g=df.groupby('year')"
   ]
  },
  {
   "cell_type": "code",
   "execution_count": 5,
   "metadata": {},
   "outputs": [
    {
     "data": {
      "text/html": [
       "<div>\n",
       "<style scoped>\n",
       "    .dataframe tbody tr th:only-of-type {\n",
       "        vertical-align: middle;\n",
       "    }\n",
       "\n",
       "    .dataframe tbody tr th {\n",
       "        vertical-align: top;\n",
       "    }\n",
       "\n",
       "    .dataframe thead th {\n",
       "        text-align: right;\n",
       "    }\n",
       "</style>\n",
       "<table border=\"1\" class=\"dataframe\">\n",
       "  <thead>\n",
       "    <tr style=\"text-align: right;\">\n",
       "      <th></th>\n",
       "      <th>cruise</th>\n",
       "      <th>station</th>\n",
       "      <th>cast</th>\n",
       "      <th>year</th>\n",
       "      <th>month</th>\n",
       "      <th>day</th>\n",
       "      <th>latitude</th>\n",
       "      <th>longitude</th>\n",
       "      <th>bottomdepth</th>\n",
       "      <th>maxsampdepth</th>\n",
       "      <th>...</th>\n",
       "      <th>aou</th>\n",
       "      <th>nitrate</th>\n",
       "      <th>nitrite</th>\n",
       "      <th>silicate</th>\n",
       "      <th>phosphate</th>\n",
       "      <th>talk</th>\n",
       "      <th>phts25p0</th>\n",
       "      <th>phtsinsitutp</th>\n",
       "      <th>tco2</th>\n",
       "      <th>Fill</th>\n",
       "    </tr>\n",
       "  </thead>\n",
       "  <tbody>\n",
       "    <tr>\n",
       "      <th>728469</th>\n",
       "      <td>2013.0</td>\n",
       "      <td>0.0</td>\n",
       "      <td>0.0</td>\n",
       "      <td>2019</td>\n",
       "      <td>4.0</td>\n",
       "      <td>8.0</td>\n",
       "      <td>-49.9129</td>\n",
       "      <td>-59.1499</td>\n",
       "      <td>203.0</td>\n",
       "      <td>152.4</td>\n",
       "      <td>...</td>\n",
       "      <td>22.185677</td>\n",
       "      <td>20.83</td>\n",
       "      <td>0.23665</td>\n",
       "      <td>5.35</td>\n",
       "      <td>1.41</td>\n",
       "      <td>2260.3</td>\n",
       "      <td>7.752132</td>\n",
       "      <td>7.973696</td>\n",
       "      <td>2124.996175</td>\n",
       "      <td>True</td>\n",
       "    </tr>\n",
       "    <tr>\n",
       "      <th>728470</th>\n",
       "      <td>2013.0</td>\n",
       "      <td>0.0</td>\n",
       "      <td>0.0</td>\n",
       "      <td>2019</td>\n",
       "      <td>4.0</td>\n",
       "      <td>8.0</td>\n",
       "      <td>-49.9129</td>\n",
       "      <td>-59.1499</td>\n",
       "      <td>203.0</td>\n",
       "      <td>152.4</td>\n",
       "      <td>...</td>\n",
       "      <td>23.283394</td>\n",
       "      <td>20.47</td>\n",
       "      <td>0.23625</td>\n",
       "      <td>5.35</td>\n",
       "      <td>1.45</td>\n",
       "      <td>2262.2</td>\n",
       "      <td>7.752342</td>\n",
       "      <td>7.973632</td>\n",
       "      <td>2125.261175</td>\n",
       "      <td>True</td>\n",
       "    </tr>\n",
       "    <tr>\n",
       "      <th>728471</th>\n",
       "      <td>2013.0</td>\n",
       "      <td>0.0</td>\n",
       "      <td>0.0</td>\n",
       "      <td>2019</td>\n",
       "      <td>4.0</td>\n",
       "      <td>8.0</td>\n",
       "      <td>-49.9129</td>\n",
       "      <td>-59.1499</td>\n",
       "      <td>203.0</td>\n",
       "      <td>152.4</td>\n",
       "      <td>...</td>\n",
       "      <td>23.161578</td>\n",
       "      <td>20.45</td>\n",
       "      <td>0.23625</td>\n",
       "      <td>5.33</td>\n",
       "      <td>1.45</td>\n",
       "      <td>2262.0</td>\n",
       "      <td>7.752342</td>\n",
       "      <td>7.973632</td>\n",
       "      <td>2125.261175</td>\n",
       "      <td>True</td>\n",
       "    </tr>\n",
       "    <tr>\n",
       "      <th>728472</th>\n",
       "      <td>2013.0</td>\n",
       "      <td>0.0</td>\n",
       "      <td>0.0</td>\n",
       "      <td>2019</td>\n",
       "      <td>4.0</td>\n",
       "      <td>8.0</td>\n",
       "      <td>-49.9129</td>\n",
       "      <td>-59.1499</td>\n",
       "      <td>203.0</td>\n",
       "      <td>152.4</td>\n",
       "      <td>...</td>\n",
       "      <td>22.580981</td>\n",
       "      <td>20.25</td>\n",
       "      <td>0.23625</td>\n",
       "      <td>5.31</td>\n",
       "      <td>1.46</td>\n",
       "      <td>2262.6</td>\n",
       "      <td>7.752342</td>\n",
       "      <td>7.973632</td>\n",
       "      <td>2125.018175</td>\n",
       "      <td>True</td>\n",
       "    </tr>\n",
       "    <tr>\n",
       "      <th>728473</th>\n",
       "      <td>2013.0</td>\n",
       "      <td>0.0</td>\n",
       "      <td>0.0</td>\n",
       "      <td>2019</td>\n",
       "      <td>4.0</td>\n",
       "      <td>8.0</td>\n",
       "      <td>-49.9129</td>\n",
       "      <td>-59.1499</td>\n",
       "      <td>203.0</td>\n",
       "      <td>152.4</td>\n",
       "      <td>...</td>\n",
       "      <td>22.866477</td>\n",
       "      <td>20.61</td>\n",
       "      <td>0.23625</td>\n",
       "      <td>5.42</td>\n",
       "      <td>1.45</td>\n",
       "      <td>2261.1</td>\n",
       "      <td>7.752342</td>\n",
       "      <td>7.974098</td>\n",
       "      <td>2125.221166</td>\n",
       "      <td>True</td>\n",
       "    </tr>\n",
       "    <tr>\n",
       "      <th>...</th>\n",
       "      <td>...</td>\n",
       "      <td>...</td>\n",
       "      <td>...</td>\n",
       "      <td>...</td>\n",
       "      <td>...</td>\n",
       "      <td>...</td>\n",
       "      <td>...</td>\n",
       "      <td>...</td>\n",
       "      <td>...</td>\n",
       "      <td>...</td>\n",
       "      <td>...</td>\n",
       "      <td>...</td>\n",
       "      <td>...</td>\n",
       "      <td>...</td>\n",
       "      <td>...</td>\n",
       "      <td>...</td>\n",
       "      <td>...</td>\n",
       "      <td>...</td>\n",
       "      <td>...</td>\n",
       "      <td>...</td>\n",
       "      <td>...</td>\n",
       "    </tr>\n",
       "    <tr>\n",
       "      <th>730336</th>\n",
       "      <td>2013.0</td>\n",
       "      <td>81.0</td>\n",
       "      <td>0.0</td>\n",
       "      <td>2019</td>\n",
       "      <td>5.0</td>\n",
       "      <td>17.0</td>\n",
       "      <td>24.5959</td>\n",
       "      <td>-19.7004</td>\n",
       "      <td>3480.9</td>\n",
       "      <td>3470.9</td>\n",
       "      <td>...</td>\n",
       "      <td>90.012573</td>\n",
       "      <td>21.43</td>\n",
       "      <td>0.01670</td>\n",
       "      <td>31.51</td>\n",
       "      <td>1.43</td>\n",
       "      <td>2341.0</td>\n",
       "      <td>7.724700</td>\n",
       "      <td>7.953649</td>\n",
       "      <td>2192.874000</td>\n",
       "      <td>True</td>\n",
       "    </tr>\n",
       "    <tr>\n",
       "      <th>730337</th>\n",
       "      <td>2013.0</td>\n",
       "      <td>81.0</td>\n",
       "      <td>0.0</td>\n",
       "      <td>2019</td>\n",
       "      <td>5.0</td>\n",
       "      <td>17.0</td>\n",
       "      <td>24.5959</td>\n",
       "      <td>-19.7004</td>\n",
       "      <td>3480.9</td>\n",
       "      <td>3470.9</td>\n",
       "      <td>...</td>\n",
       "      <td>91.131240</td>\n",
       "      <td>21.40</td>\n",
       "      <td>0.01710</td>\n",
       "      <td>33.77</td>\n",
       "      <td>1.44</td>\n",
       "      <td>2343.1</td>\n",
       "      <td>7.726600</td>\n",
       "      <td>7.949672</td>\n",
       "      <td>2194.781000</td>\n",
       "      <td>True</td>\n",
       "    </tr>\n",
       "    <tr>\n",
       "      <th>730338</th>\n",
       "      <td>2013.0</td>\n",
       "      <td>81.0</td>\n",
       "      <td>0.0</td>\n",
       "      <td>2019</td>\n",
       "      <td>5.0</td>\n",
       "      <td>17.0</td>\n",
       "      <td>24.5959</td>\n",
       "      <td>-19.7004</td>\n",
       "      <td>3480.9</td>\n",
       "      <td>3470.9</td>\n",
       "      <td>...</td>\n",
       "      <td>92.017470</td>\n",
       "      <td>21.57</td>\n",
       "      <td>0.01720</td>\n",
       "      <td>36.74</td>\n",
       "      <td>1.47</td>\n",
       "      <td>2348.2</td>\n",
       "      <td>7.727900</td>\n",
       "      <td>7.944185</td>\n",
       "      <td>2198.376000</td>\n",
       "      <td>True</td>\n",
       "    </tr>\n",
       "    <tr>\n",
       "      <th>730339</th>\n",
       "      <td>2013.0</td>\n",
       "      <td>81.0</td>\n",
       "      <td>0.0</td>\n",
       "      <td>2019</td>\n",
       "      <td>5.0</td>\n",
       "      <td>17.0</td>\n",
       "      <td>24.5959</td>\n",
       "      <td>-19.7004</td>\n",
       "      <td>3480.9</td>\n",
       "      <td>3470.9</td>\n",
       "      <td>...</td>\n",
       "      <td>95.566997</td>\n",
       "      <td>21.94</td>\n",
       "      <td>0.01740</td>\n",
       "      <td>40.60</td>\n",
       "      <td>1.49</td>\n",
       "      <td>2354.8</td>\n",
       "      <td>7.725600</td>\n",
       "      <td>7.934491</td>\n",
       "      <td>2205.633000</td>\n",
       "      <td>True</td>\n",
       "    </tr>\n",
       "    <tr>\n",
       "      <th>730340</th>\n",
       "      <td>2013.0</td>\n",
       "      <td>81.0</td>\n",
       "      <td>0.0</td>\n",
       "      <td>2019</td>\n",
       "      <td>5.0</td>\n",
       "      <td>17.0</td>\n",
       "      <td>24.5959</td>\n",
       "      <td>-19.7004</td>\n",
       "      <td>3480.9</td>\n",
       "      <td>3470.9</td>\n",
       "      <td>...</td>\n",
       "      <td>101.284176</td>\n",
       "      <td>22.51</td>\n",
       "      <td>0.01740</td>\n",
       "      <td>44.56</td>\n",
       "      <td>1.53</td>\n",
       "      <td>2365.3</td>\n",
       "      <td>7.725300</td>\n",
       "      <td>7.927099</td>\n",
       "      <td>2208.507000</td>\n",
       "      <td>True</td>\n",
       "    </tr>\n",
       "  </tbody>\n",
       "</table>\n",
       "<p>1872 rows × 31 columns</p>\n",
       "</div>"
      ],
      "text/plain": [
       "        cruise  station  cast  year  month   day  latitude  longitude  \\\n",
       "728469  2013.0      0.0   0.0  2019    4.0   8.0  -49.9129   -59.1499   \n",
       "728470  2013.0      0.0   0.0  2019    4.0   8.0  -49.9129   -59.1499   \n",
       "728471  2013.0      0.0   0.0  2019    4.0   8.0  -49.9129   -59.1499   \n",
       "728472  2013.0      0.0   0.0  2019    4.0   8.0  -49.9129   -59.1499   \n",
       "728473  2013.0      0.0   0.0  2019    4.0   8.0  -49.9129   -59.1499   \n",
       "...        ...      ...   ...   ...    ...   ...       ...        ...   \n",
       "730336  2013.0     81.0   0.0  2019    5.0  17.0   24.5959   -19.7004   \n",
       "730337  2013.0     81.0   0.0  2019    5.0  17.0   24.5959   -19.7004   \n",
       "730338  2013.0     81.0   0.0  2019    5.0  17.0   24.5959   -19.7004   \n",
       "730339  2013.0     81.0   0.0  2019    5.0  17.0   24.5959   -19.7004   \n",
       "730340  2013.0     81.0   0.0  2019    5.0  17.0   24.5959   -19.7004   \n",
       "\n",
       "        bottomdepth  maxsampdepth  ...         aou  nitrate  nitrite  \\\n",
       "728469        203.0         152.4  ...   22.185677    20.83  0.23665   \n",
       "728470        203.0         152.4  ...   23.283394    20.47  0.23625   \n",
       "728471        203.0         152.4  ...   23.161578    20.45  0.23625   \n",
       "728472        203.0         152.4  ...   22.580981    20.25  0.23625   \n",
       "728473        203.0         152.4  ...   22.866477    20.61  0.23625   \n",
       "...             ...           ...  ...         ...      ...      ...   \n",
       "730336       3480.9        3470.9  ...   90.012573    21.43  0.01670   \n",
       "730337       3480.9        3470.9  ...   91.131240    21.40  0.01710   \n",
       "730338       3480.9        3470.9  ...   92.017470    21.57  0.01720   \n",
       "730339       3480.9        3470.9  ...   95.566997    21.94  0.01740   \n",
       "730340       3480.9        3470.9  ...  101.284176    22.51  0.01740   \n",
       "\n",
       "        silicate  phosphate    talk  phts25p0  phtsinsitutp         tco2  Fill  \n",
       "728469      5.35       1.41  2260.3  7.752132      7.973696  2124.996175  True  \n",
       "728470      5.35       1.45  2262.2  7.752342      7.973632  2125.261175  True  \n",
       "728471      5.33       1.45  2262.0  7.752342      7.973632  2125.261175  True  \n",
       "728472      5.31       1.46  2262.6  7.752342      7.973632  2125.018175  True  \n",
       "728473      5.42       1.45  2261.1  7.752342      7.974098  2125.221166  True  \n",
       "...          ...        ...     ...       ...           ...          ...   ...  \n",
       "730336     31.51       1.43  2341.0  7.724700      7.953649  2192.874000  True  \n",
       "730337     33.77       1.44  2343.1  7.726600      7.949672  2194.781000  True  \n",
       "730338     36.74       1.47  2348.2  7.727900      7.944185  2198.376000  True  \n",
       "730339     40.60       1.49  2354.8  7.725600      7.934491  2205.633000  True  \n",
       "730340     44.56       1.53  2365.3  7.725300      7.927099  2208.507000  True  \n",
       "\n",
       "[1872 rows x 31 columns]"
      ]
     },
     "execution_count": 5,
     "metadata": {},
     "output_type": "execute_result"
    }
   ],
   "source": [
    "frames = {}\n",
    "for x,y in g:\n",
    "    frames[x] = y\n",
    "frames[list(frames.keys())[-1]]"
   ]
  },
  {
   "cell_type": "code",
   "execution_count": 6,
   "metadata": {},
   "outputs": [],
   "source": [
    "\n",
    "var = df.columns \n",
    "years = list(frames.keys())\n",
    "list_updatemenus=[];temp_dict={}\n",
    "for n, year in enumerate(years):\n",
    "    visible = [False] * len(years)\n",
    "    visible[n] = True\n",
    "    temp_dict = dict(label = str(year),\n",
    "                 method = 'update',\n",
    "                 args = [{'visible': visible},\n",
    "                         {'title': 'Year %d' % year}])\n",
    "\n",
    "    list_updatemenus.append(temp_dict)\n",
    "    \n",
    "list_c=[];c_dict={}\n",
    "for n, year in enumerate(var):\n",
    "    visible = [False] * len(var)\n",
    "    visible[n] = True\n",
    "    c_dict = dict(label = str(var),\n",
    "                 method = 'update',\n",
    "                 args = [{'visible': visible},\n",
    "                         {'title': var}])\n",
    "\n",
    "    list_c.append(c_dict)\n",
    "    "
   ]
  },
  {
   "cell_type": "code",
   "execution_count": 7,
   "metadata": {},
   "outputs": [
    {
     "name": "stdout",
     "output_type": "stream",
     "text": [
      "len before 1218966 and after trim for plotly 48759\n"
     ]
    }
   ],
   "source": [
    "#plotly is too slow with complete set \n",
    "\n",
    "dftrim = df.iloc[::25,:]\n",
    "print('len before '+ str(len(df))+' and after trim for plotly '+str(len(dftrim)))"
   ]
  },
  {
   "cell_type": "code",
   "execution_count": 12,
   "metadata": {},
   "outputs": [
    {
     "name": "stdout",
     "output_type": "stream",
     "text": [
      "there are 33 cruises with <100 datapoints out of 936 cruises\n"
     ]
    }
   ],
   "source": [
    "\n",
    "####the dataset needs ot be cut down for plotly to load \n",
    "#how many datapoints per cruise? \n",
    "dp = [];count = 0 \n",
    "for i,g in df.groupby('cruise'):\n",
    "    if len(g)<50: \n",
    "        count = count + 1\n",
    "    dp.append(len(g))\n",
    "\n",
    "#ax=sns.distplot(dp)\n",
    "#ax.set_xlim([0,1000])\n",
    "\n",
    "print('there are '+str(count)+ ' cruises with <100 datapoints out of ' +str(len(df.cruise.unique())) + ' cruises')"
   ]
  },
  {
   "cell_type": "code",
   "execution_count": 13,
   "metadata": {},
   "outputs": [
    {
     "data": {
      "text/plain": [
       "<matplotlib.axes._subplots.AxesSubplot at 0x1c7239d4e20>"
      ]
     },
     "execution_count": 13,
     "metadata": {},
     "output_type": "execute_result"
    },
    {
     "data": {
      "image/png": "[encoded data removed]",
      "text/plain": [
       "<Figure size 432x288 with 1 Axes>"
      ]
     },
     "metadata": {
      "needs_background": "light"
     },
     "output_type": "display_data"
    }
   ],
   "source": [
    "sns.distplot(dp)"
   ]
  },
  {
   "cell_type": "code",
   "execution_count": 7,
   "metadata": {},
   "outputs": [
    {
     "name": "stdout",
     "output_type": "stream",
     "text": [
      "27 27\n"
     ]
    },
    {
     "data": {
      "text/plain": [
       "'cruise'"
      ]
     },
     "execution_count": 7,
     "metadata": {},
     "output_type": "execute_result"
    }
   ],
   "source": [
    "df.columns\n",
    "col=['Cruise', 'Station',  'Year', 'Month', 'Day', 'Bottom Depth', 'Max Sample Depth', 'Pressure', 'Depth',\n",
    "       'Potential Temperature', 'theta', 'Salinity', 'Potential Temp 0m', 'Potential Temp 1km', 'Potential Temp 2km',\n",
    "       'Potential Temp 3km', 'Neutral Density', 'oxygen', 'Actual O2 Utilization', 'Nitrate', 'Nitrite', 'Silicate',\n",
    "       'Phosphate', 'Total Alkalinity', 'pH at STP', 'pH in Situ', 'Total CO2']\n",
    "\n",
    "actu=['cruise', 'station', 'year', 'month', 'day', 'bottomdepth', 'maxsampdepth', 'pressure', 'depth',\n",
    "       'temperature', 'theta', 'salinity', 'sigma0', 'sigma1', 'sigma2',\n",
    "       'sigma3', 'gamma', 'oxygen', 'aou', 'nitrate', 'nitrite', 'silicate',\n",
    "       'phosphate', 'talk', 'phts25p0', 'phtsinsitutp', 'tco2']\n",
    "\n",
    "print(len(actu),len(col))\n",
    "actu[col.index('Cruise')]"
   ]
  },
  {
   "cell_type": "code",
   "execution_count": null,
   "metadata": {},
   "outputs": [
    {
     "data": {
      "application/vnd.jupyter.widget-view+json": {
       "model_id": "43af1f0abee345a69731c2a84813e1c7",
       "version_major": 2,
       "version_minor": 0
      },
      "text/plain": [
       "interactive(children=(Dropdown(description='var', options=('Cruise', 'Station', 'Year', 'Month', 'Day', 'Botto…"
      ]
     },
     "metadata": {},
     "output_type": "display_data"
    }
   ],
   "source": [
    "#fig5 = go.Figure()\n",
    "\n",
    "def plot_compare_lag(var, year):\n",
    "    col=['Cruise', 'Station',  'Year', 'Month', 'Day', 'Bottom Depth', 'Max Sample Depth', 'Pressure', 'Depth',\n",
    "       'Potential Temperature', 'theta', 'Salinity', 'Potential Temp 0m', 'Potential Temp 1km', 'Potential Temp 2km',\n",
    "       'Potential Temp 3km', 'Neutral Density', 'oxygen', 'Actual O2 Utilization', 'Nitrate', 'Nitrite', 'Silicate',\n",
    "       'Phosphate', 'Total Alkalinity', 'pH at STP', 'pH in Situ', 'tco2']\n",
    "\n",
    "    actu=['cruise', 'station', 'year', 'month', 'day', 'bottomdepth', 'maxsampdepth', 'pressure', 'depth',\n",
    "       'temperature', 'theta', 'salinity', 'sigma0', 'sigma1', 'sigma2',\n",
    "       'sigma3', 'gamma', 'oxygen', 'aou', 'nitrate', 'nitrite', 'silicate',\n",
    "       'phosphate', 'talk', 'phts25p0', 'phtsinsitutp', 'tco2']\n",
    "\n",
    "    #data = te(s,BalancingAuthority)\n",
    "    fig5 =go.Figure(go.Scattergeo(locationmode ='ISO-3',lon=dftrim[\"longitude\"],\n",
    "                                  lat=dftrim[\"latitude\"],#color=var,\n",
    "        mode ='markers',marker = dict(\n",
    "            size = 2, color = dftrim[actu[col.index(var)]], colorscale = 'Inferno',\n",
    "            cmax = df[actu[col.index(var)]].max(),colorbar_title=var) ),\n",
    "    layout= dict(title ='Variable: ' +var + ' | Year:'  + str(year.astype(str)[0:4]))  )\n",
    "    fig5.show()\n",
    "    return fig5 \n",
    "\n",
    "interactive(plot_compare_lag, var=col, \n",
    "            year=list(np.linspace(1984,2019,(2019-1983))),  )\n"
   ]
  },
  {
   "cell_type": "code",
   "execution_count": null,
   "metadata": {},
   "outputs": [],
   "source": [
    "#fig5 = go.Figure()\n",
    "\n",
    "def plot_compare_lag(var, year):\n",
    "    col=['Cruise', 'Station',  'Year', 'Month', 'Day', 'Bottom Depth', 'Max Sample Depth', 'Pressure', 'Depth',\n",
    "       'Potential Temperature', 'theta', 'Salinity', 'Potential Temp 0m', 'Potential Temp 1km', 'Potential Temp 2km',\n",
    "       'Potential Temp 3km', 'Neutral Density', 'oxygen', 'Actual O2 Utilization', 'Nitrate', 'Nitrite', 'Silicate',\n",
    "       'Phosphate', 'Total Alkalinity', 'pH at STP', 'pH in Situ', 'tco2']\n",
    "\n",
    "    actu=['cruise', 'station', 'year', 'month', 'day', 'bottomdepth', 'maxsampdepth', 'pressure', 'depth',\n",
    "       'temperature', 'theta', 'salinity', 'sigma0', 'sigma1', 'sigma2',\n",
    "       'sigma3', 'gamma', 'oxygen', 'aou', 'nitrate', 'nitrite', 'silicate',\n",
    "       'phosphate', 'talk', 'phts25p0', 'phtsinsitutp', 'tco2']\n",
    "\n",
    "    #data = te(s,BalancingAuthority)\n",
    "    fig5 =go.Figure(go.Scattergeo(locationmode ='ISO-3',lon=dftrim[\"longitude\"],\n",
    "                                  lat=dftrim[\"latitude\"],#color=var,\n",
    "        mode ='markers',marker = dict(\n",
    "            size = 2, color = dftrim[actu[col.index(var)]], colorscale = 'Inferno',\n",
    "            cmax = df[actu[col.index(var)]].max(),colorbar_title=var) ),\n",
    "    layout= dict(title ='Variable: ' +var + ' | Year:'  + str(year.astype(str)[0:4]))  )\n",
    "    fig5.show()\n",
    "    return fig5 \n",
    "\n",
    "interactive(plot_compare_lag, var=col, \n",
    "            year=list(np.linspace(1984,2019,(2019-1983))),  )\n"
   ]
  },
  {
   "cell_type": "code",
   "execution_count": 31,
   "metadata": {},
   "outputs": [
    {
     "name": "stdout",
     "output_type": "stream",
     "text": [
      "there are 4134 latitudes with <10 datapoints out of 33311 latitudes\n"
     ]
    },
    {
     "data": {
      "image/png": "[encoded data removed]",
      "text/plain": [
       "<Figure size 432x288 with 1 Axes>"
      ]
     },
     "metadata": {
      "needs_background": "light"
     },
     "output_type": "display_data"
    }
   ],
   "source": [
    "l = [];count = 0 \n",
    "for i,g in df.groupby('latitude'):\n",
    "    if len(g)<10: \n",
    "        count = count + 1\n",
    "    l.append(len(g))\n",
    "\n",
    "i=df.latitude.value_counts()\n",
    "sns.distplot(l)\n",
    "print('there are '+str(count)+ ' latitudes with <10 datapoints out of ' +str(len(df.latitude.unique())) + ' latitudes')"
   ]
  },
  {
   "cell_type": "code",
   "execution_count": 26,
   "metadata": {},
   "outputs": [
    {
     "data": {
      "text/plain": [
       " 30.000    6660\n",
       "-32.500    6249\n",
       " 24.500    4515\n",
       " 75.000    3184\n",
       "-16.750    2781\n",
       "           ... \n",
       " 5.020        1\n",
       "-50.258       1\n",
       " 59.644       1\n",
       " 59.057       1\n",
       " 43.368       1\n",
       "Name: latitude, Length: 33311, dtype: int64"
      ]
     },
     "execution_count": 26,
     "metadata": {},
     "output_type": "execute_result"
    }
   ],
   "source": [
    "i=df.latitude.value_counts()\n",
    "i"
   ]
  },
  {
   "cell_type": "code",
   "execution_count": 30,
   "metadata": {},
   "outputs": [
    {
     "data": {
      "text/plain": [
       "(0.0, 10.0)"
      ]
     },
     "execution_count": 30,
     "metadata": {},
     "output_type": "execute_result"
    },
    {
     "data": {
      "image/png": "[encoded data removed]",
      "text/plain": [
       "<Figure size 432x288 with 1 Axes>"
      ]
     },
     "metadata": {
      "needs_background": "light"
     },
     "output_type": "display_data"
    }
   ],
   "source": [
    "plt.scatter(i.index,i)\n",
    "plt.ylim([0,10])"
   ]
  },
  {
   "cell_type": "markdown",
   "metadata": {},
   "source": [
    "### Group by latitude and longitude so the changes from year to year can be tracked.\n",
    "\n",
    "Latitude and longitude will be rounded to 2 decimal places. \n",
    "Find knn for computing the difference."
   ]
  },
  {
   "cell_type": "code",
   "execution_count": 5,
   "metadata": {},
   "outputs": [
    {
     "name": "stderr",
     "output_type": "stream",
     "text": [
      "C:\\Users\\ossan\\anaconda3\\lib\\site-packages\\numpy\\lib\\arraysetops.py:569: FutureWarning: elementwise comparison failed; returning scalar instead, but in the future will perform elementwise comparison\n",
      "  mask |= (ar1 == a)\n"
     ]
    }
   ],
   "source": [
    "df =pd.read_csv('C:\\\\Users\\\\ossan\\\\DATA606\\\\DATA\\\\TCO2_filled.csv',index_col=0) #save metrics \n",
    "df2 = df\n",
    "df2['longitude'] = df2['longitude'].apply(lambda x: round(x,2))\n",
    "df2['latitude'] = df2['latitude'].apply(lambda x: round(x,2))\n",
    "df2['longitude']\n",
    "latlong = [];count = 0 \n",
    "latlong=df2.groupby(['latitude','longitude','year']).agg('mean').reset_index()   \n",
    "#longlat=df2.groupby(['longitude','latitude','year']).agg('mean').reset_index()   \n",
    "#latlong =pd.concat([latlong,longlat])\n",
    "colu=['Year','Bottom Depth', 'Max Sample Depth', 'Pressure', 'Depth', 'Potential Temperature', 'theta', 'Salinity', 'Potential Temp 0m', 'Potential Temp 1km', 'Potential Temp 2km',\n",
    "       'Potential Temp 3km', 'Neutral Density', 'oxygen', 'Actual O2 Utilization', 'Nitrate', 'Nitrite', 'Silicate',\n",
    "       'Phosphate', 'Total Alkalinity', 'pH at STP', 'pH in Situ', 'tco2','Binned Depth']\n",
    "actua=[ 'year', 'bottomdepth', 'maxsampdepth','pressure', 'depth', 'temperature', 'theta', 'salinity', 'sigma0',\n",
    "       'sigma1', 'sigma2', 'sigma3', 'gamma', 'oxygen', 'aou', 'nitrate','nitrite', 'silicate', 'phosphate', 'talk', 'phts25p0', 'phtsinsitutp',\n",
    "       'tco2', 'depthBinned']"
   ]
  },
  {
   "cell_type": "markdown",
   "metadata": {},
   "source": [
    "### Send to csv for dashboard"
   ]
  },
  {
   "cell_type": "code",
   "execution_count": 3,
   "metadata": {},
   "outputs": [],
   "source": [
    "latlong.to_csv('C:\\\\Users\\\\ossan\\\\DATA606\\\\DATA\\\\Groupedlatlongyr.csv')"
   ]
  },
  {
   "cell_type": "code",
   "execution_count": 148,
   "metadata": {},
   "outputs": [],
   "source": [
    "url = 'https://raw.githubusercontent.com/ossana1/DATA606_FinalProject/master/data/Groupedlatlongyr.csv'\n",
    "latlong= pd.read_csv(url,index_col=0)\n",
    "latlong.drop(columns=['cruise','station','day','month','Fill','cast'],inplace=True)\n",
    "#clean up columns for labels \n",
    "colu=['Year','Bottom Depth', 'Max Sample Depth', 'Pressure', 'Depth', 'Potential Temperature', 'theta', 'Salinity', 'Potential Temp 0m', 'Potential Temp 1km', 'Potential Temp 2km',\n",
    "       'Potential Temp 3km', 'Neutral Density', 'oxygen', 'Actual O2 Utilization', 'Nitrate', 'Nitrite', 'Silicate',\n",
    "       'Phosphate', 'Total Alkalinity', 'pH at STP', 'pH in Situ', 'tco2','Binned Depth']\n",
    "actua=[ 'year', 'bottomdepth', 'maxsampdepth','pressure', 'depth', 'temperature', 'theta', 'salinity', 'sigma0',\n",
    "       'sigma1', 'sigma2', 'sigma3', 'gamma', 'oxygen', 'aou', 'nitrate','nitrite', 'silicate', 'phosphate', 'talk', 'phts25p0', 'phtsinsitutp',\n",
    "       'tco2', 'depthBinned']\n",
    "\n",
    "#print(len(col),len(actu))"
   ]
  },
  {
   "cell_type": "code",
   "execution_count": 164,
   "metadata": {
    "scrolled": true
   },
   "outputs": [
    {
     "data": {
      "application/vnd.jupyter.widget-view+json": {
       "model_id": "afaf251323ae4781a05e9cb8bb9bdc58",
       "version_major": 2,
       "version_minor": 0
      },
      "text/plain": [
       "interactive(children=(Dropdown(description='var', options=('Year', 'Bottom Depth', 'Max Sample Depth', 'Pressu…"
      ]
     },
     "metadata": {},
     "output_type": "display_data"
    }
   ],
   "source": [
    "%matplotlib inline\n",
    "\n",
    "from sklearn.neighbors import BallTree\n",
    "\n",
    "def chang(var,start,end,df):\n",
    "    start_year=latlong[latlong.year ==start].reset_index(); end_year=latlong[latlong.year ==end].reset_index()\n",
    "    query_lats = end_year.latitude;query_lons = end_year.longitude\n",
    "    \n",
    "    varx = actua[colu.index(var)] \n",
    "    #search for closest lat and long \n",
    "    ###https://stackoverflow.com/questions/10549402/kdtree-for-longitude-latitude\n",
    "    bt = BallTree(np.deg2rad(start_year[['latitude', 'longitude']].values), metric='haversine')\n",
    "    distances, indices = bt.query(np.deg2rad(np.c_[query_lats, query_lons]))\n",
    "\n",
    "    i = pd.DataFrame(list(zip(distances,indices)),columns=['distances','indices'])\n",
    "    end_year['compare']  =i.iloc[:,1].astype(int)\n",
    "    end_year['data'] = start_year.loc[end_year.compare,varx].values\n",
    "    end_year['diff'] =(end_year[varx]- end_year['data'])\n",
    "    return end_year\n",
    "\n",
    "def plot_compare_lag(var, startyear,endyear):\n",
    "    change = chang(var,startyear,endyear,latlong)\n",
    "    fig =go.Figure(go.Scattergeo(locationmode ='ISO-3',lon=change[\"longitude\"],\n",
    "                                  lat=change[\"latitude\"],#color=var,\n",
    "        mode ='markers',marker = dict(\n",
    "            size = 4, color = change['diff'], colorscale = 'viridis',\n",
    "            colorbar_title=var) ), #cmax = 1.5*change['diff'].max(),\n",
    "    layout= dict(title ='Variable Change: ' +var + ' | Start Year:'  + \n",
    "                 str(startyear.astype(str)[0:4]) +'| End Year:'  + \n",
    "                 str(endyear.astype(str)[0:4]))  )\n",
    "    fig.show()\n",
    "    return fig \n",
    "\n",
    "\n",
    "\n",
    "interactive(plot_compare_lag, var=colu, startyear=list(np.linspace(1984,2019,(2019-1983))), \n",
    "            endyear=list(np.linspace(1984,2019,(2019-1983))),)\n",
    "\n",
    "\n",
    "interactive(plot_compare_lag, var=colu, startyear=list(np.linspace(1984,2019,(2019-1983))), \n",
    "            endyear=list(np.linspace(1984,2019,(2019-1983))),)\n"
   ]
  },
  {
   "cell_type": "code",
   "execution_count": null,
   "metadata": {},
   "outputs": [],
   "source": []
  }
 ],
 "metadata": {
  "kernelspec": {
   "display_name": "Python 3",
   "language": "python",
   "name": "python3"
  },
  "language_info": {
   "codemirror_mode": {
    "name": "ipython",
    "version": 3
   },
   "file_extension": ".py",
   "mimetype": "text/x-python",
   "name": "python",
   "nbconvert_exporter": "python",
   "pygments_lexer": "ipython3",
   "version": "3.7.6"
  }
 },
 "nbformat": 4,
 "nbformat_minor": 4
}
