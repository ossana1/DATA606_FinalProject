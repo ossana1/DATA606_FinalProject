{
 "cells": [
  {
   "cell_type": "code",
   "execution_count": 2,
   "metadata": {},
   "outputs": [],
   "source": [
    "#import statements\n",
    "import datetime\n",
    "import numpy as np\n",
    "import pandas as pd\n",
    "import plotly.graph_objects as go\n",
    "import plotly.express as px\n",
    "import pickle\n",
    "import seaborn as sns\n",
    "import matplotlib.pyplot as plt\n",
    "from scipy import stats\n",
    "\n",
    "#from keypass import NOAA_api\n",
    "import pylab as pl\n",
    "from IPython import display\n",
    "\n",
    "from functools import partial\n",
    "import pyproj\n",
    "from sklearn import datasets\n",
    "from sklearn.tree import DecisionTreeRegressor\n",
    "from sklearn.utils import shuffle\n",
    "from sklearn.linear_model import LogisticRegression, LinearRegression\n",
    "from sklearn.ensemble import RandomForestRegressor\n",
    "from sklearn.model_selection import train_test_split\n",
    "from sklearn.metrics import mean_squared_error, r2_score,explained_variance_score\n",
    "from numpy import absolute,mean,std\n",
    "\n",
    "from sklearn.model_selection import cross_val_score\n",
    "from sklearn.model_selection import RepeatedKFold\n",
    "\n",
    "import plotly.graph_objects as go\n",
    "from plotly.subplots import make_subplots\n",
    "import plotly.graph_objects as go\n",
    "import plotly.express as px\n",
    "from ipywidgets import interactive\n"
   ]
  },
  {
   "cell_type": "markdown",
   "metadata": {},
   "source": [
    "### $TCO_2$ was filled in. Now load the dataset for some visuals. \n",
    "\n",
    "Every 25th row is saved to make the dashboard useable (ie faster). \n",
    "\n",
    "Len before 1218966 and after trim 48759\n",
    "\n",
    "there are 33 cruises with <100 datapoints out of 936 cruises so I consider this data loss acceptable "
   ]
  },
  {
   "cell_type": "code",
   "execution_count": null,
   "metadata": {},
   "outputs": [],
   "source": [
    "#https://stackoverflow.com/questions/60609760/is-there-a-way-to-import-csv-file-from-github-automatically-to-my-jupyter-notebo (accessed Oct. 08, 2020).\n",
    "\n",
    "\n",
    "#df =pd.read_csv('C:\\\\Users\\\\ossan\\\\DATA606\\\\DATA\\\\TCO2_filled.csv',index_col=0) #ORIGINAL\n",
    "#plotly is too slow with complete set -use this for now \n",
    "url = 'https://raw.githubusercontent.com/ossana1/DATA606_FinalProject/master/data/TCO2_small.csv'\n",
    "df = pd.read_csv(url,index_col=0)\n",
    "dftrim = df \n",
    "#print(len(df))\n",
    "df['year'] =pd.to_numeric( df['year'])\n",
    "df['year'] =df['year'].astype(int)\n",
    "g=df.groupby('year')"
   ]
  },
  {
   "cell_type": "code",
   "execution_count": null,
   "metadata": {},
   "outputs": [],
   "source": [
    "#dftrim = df.iloc[::25,:]\n",
    "#print('len before '+ str(len(df))+' and after trim for plotly '+str(len(dftrim)))\n",
    "#dftrim.to_csv( 'C:\\\\Users\\\\ossan\\\\DATA606\\\\DATA\\\\TCO2_small.csv') #save metrics "
   ]
  },
  {
   "cell_type": "code",
   "execution_count": null,
   "metadata": {},
   "outputs": [],
   "source": [
    "frames = {}\n",
    "for x,y in g:\n",
    "    frames[x] = y\n",
    "#frames[list(frames.keys())[-1]]"
   ]
  },
  {
   "cell_type": "code",
   "execution_count": null,
   "metadata": {},
   "outputs": [],
   "source": [
    "\n",
    "var = df.columns \n",
    "years = list(frames.keys())\n",
    "list_updatemenus=[];temp_dict={}\n",
    "for n, year in enumerate(years):\n",
    "    visible = [False] * len(years)\n",
    "    visible[n] = True\n",
    "    temp_dict = dict(label = str(year),\n",
    "                 method = 'update',\n",
    "                 args = [{'visible': visible},\n",
    "                         {'title': 'Year %d' % year}])\n",
    "\n",
    "    list_updatemenus.append(temp_dict)\n",
    "    \n",
    "list_c=[];c_dict={}\n",
    "for n, year in enumerate(var):\n",
    "    visible = [False] * len(var)\n",
    "    visible[n] = True\n",
    "    c_dict = dict(label = str(var),\n",
    "                 method = 'update',\n",
    "                 args = [{'visible': visible},\n",
    "                         {'title': var}])\n",
    "\n",
    "    list_c.append(c_dict)\n",
    "    "
   ]
  },
  {
   "cell_type": "markdown",
   "metadata": {},
   "source": [
    "## Select the dataset variable column and year using the dropdowns. "
   ]
  },
  {
   "cell_type": "code",
   "execution_count": null,
   "metadata": {},
   "outputs": [],
   "source": [
    "#fig5 = go.Figure()\n",
    "col=['Cruise', 'Station',  'Year', 'Month', 'Day', 'Bottom Depth', 'Max Sample Depth', 'Pressure', 'Depth',\n",
    "       'Potential Temperature', 'theta', 'Salinity', 'Potential Temp 0m', 'Potential Temp 1km', 'Potential Temp 2km',\n",
    "       'Potential Temp 3km', 'Neutral Density', 'oxygen', 'Actual O2 Utilization', 'Nitrate', 'Nitrite', 'Silicate',\n",
    "       'Phosphate', 'Total Alkalinity', 'pH at STP', 'pH in Situ', 'tco2']\n",
    "\n",
    "actu=['cruise', 'station', 'year', 'month', 'day', 'bottomdepth', 'maxsampdepth', 'pressure', 'depth',\n",
    "       'temperature', 'theta', 'salinity', 'sigma0', 'sigma1', 'sigma2',\n",
    "       'sigma3', 'gamma', 'oxygen', 'aou', 'nitrate', 'nitrite', 'silicate',\n",
    "       'phosphate', 'talk', 'phts25p0', 'phtsinsitutp', 'tco2']\n",
    "def plot_compare_lag(var, year):\n",
    "\n",
    "    #data = te(s,BalancingAuthority)\n",
    "    fig5 =go.Figure(go.Scattergeo(locationmode ='ISO-3',lon=dftrim[\"longitude\"],\n",
    "                                  lat=dftrim[\"latitude\"],#color=var,\n",
    "        mode ='markers',marker = dict(\n",
    "            size = 2, color = dftrim[actu[col.index(var)]], colorscale = 'Inferno',\n",
    "            cmax = df[actu[col.index(var)]].max(),colorbar_title=var) ),\n",
    "    layout= dict(title ='Variable: ' +var + ' | Year:'  + str(year.astype(str)[0:4]))  )\n",
    "    fig5.show()\n",
    "    return fig5 \n",
    "\n",
    "interactive(plot_compare_lag, var=col, \n",
    "            year=list(np.linspace(1984,2019,(2019-1983))),  )\n"
   ]
  },
  {
   "cell_type": "markdown",
   "metadata": {},
   "source": [
    "### See the changes over the years with this visual. The dataset is grouped by latitude and longitude and averaged per year. The latitude and longitude is rounded to the nearest ones place to allow for merging across cruise locations. "
   ]
  },
  {
   "cell_type": "code",
   "execution_count": 4,
   "metadata": {},
   "outputs": [],
   "source": [
    "url = 'https://raw.githubusercontent.com/ossana1/DATA606_FinalProject/master/data/Groupedlatlongyr.csv'\n",
    "latlong= pd.read_csv(url,index_col=0)\n",
    "latlong.drop(columns=['cruise','station','day','month','Fill','cast'],inplace=True)\n",
    "#clean up columns for labels \n",
    "colu=['Year','Bottom Depth', 'Max Sample Depth', 'Pressure', 'Depth', 'Potential Temperature', 'theta', 'Salinity', 'Potential Temp 0m', 'Potential Temp 1km', 'Potential Temp 2km',\n",
    "       'Potential Temp 3km', 'Neutral Density', 'oxygen', 'Actual O2 Utilization', 'Nitrate', 'Nitrite', 'Silicate',\n",
    "       'Phosphate', 'Total Alkalinity', 'pH at STP', 'pH in Situ', 'tco2','Binned Depth']\n",
    "actua=[ 'year', 'bottomdepth', 'maxsampdepth','pressure', 'depth', 'temperature', 'theta', 'salinity', 'sigma0',\n",
    "       'sigma1', 'sigma2', 'sigma3', 'gamma', 'oxygen', 'aou', 'nitrate','nitrite', 'silicate', 'phosphate', 'talk', 'phts25p0', 'phtsinsitutp',\n",
    "       'tco2', 'depthBinned']\n",
    "\n",
    "#print(len(col),len(actu))"
   ]
  },
  {
   "cell_type": "code",
   "execution_count": 10,
   "metadata": {},
   "outputs": [
    {
     "data": {
      "application/vnd.jupyter.widget-view+json": {
       "model_id": "acc34d510e9a4dc3952672d4f50afdb4",
       "version_major": 2,
       "version_minor": 0
      },
      "text/plain": [
       "interactive(children=(Dropdown(description='var', options=('Year', 'Bottom Depth', 'Max Sample Depth', 'Pressu…"
      ]
     },
     "metadata": {},
     "output_type": "display_data"
    }
   ],
   "source": [
    "%matplotlib inline\n",
    "\n",
    "from sklearn.neighbors import BallTree\n",
    "\n",
    "def chang(var,start,end,df):\n",
    "    start_year=latlong[latlong.year ==start].reset_index(); end_year=latlong[latlong.year ==end].reset_index()\n",
    "    query_lats = end_year.latitude;query_lons = end_year.longitude\n",
    "    \n",
    "    varx = actua[colu.index(var)] \n",
    "    #search for closest lat and long \n",
    "    ###https://stackoverflow.com/questions/10549402/kdtree-for-longitude-latitude\n",
    "    bt = BallTree(np.deg2rad(start_year[['latitude', 'longitude']].values), metric='haversine')\n",
    "    distances, indices = bt.query(np.deg2rad(np.c_[query_lats, query_lons]))\n",
    "\n",
    "    i = pd.DataFrame(list(zip(distances,indices)),columns=['distances','indices'])\n",
    "    end_year['compare']  =i.iloc[:,1].astype(int)\n",
    "    end_year['data'] = start_year.loc[end_year.compare,varx].values\n",
    "    end_year['diff'] =(end_year[varx]- end_year['data'])\n",
    "    return end_year\n",
    "\n",
    "def plot_compare_lag(var, startyear,endyear):\n",
    "    change = chang(var,startyear,endyear,latlong)\n",
    "    fig =go.Figure(go.Scattergeo(locationmode ='ISO-3',lon=change[\"longitude\"],\n",
    "                                  lat=change[\"latitude\"],#color=var,\n",
    "        mode ='markers',marker = dict(\n",
    "            size = 4, color = change['diff'], colorscale = 'viridis',\n",
    "            colorbar_title=var) ), #cmax = 1.5*change['diff'].max(),\n",
    "    layout= dict(title ='Variable Change: ' +var + ' | Start Year:'  + \n",
    "                 str(startyear.astype(str)[0:4]) +'| End Year:'  + \n",
    "                 str(endyear.astype(str)[0:4]))  )\n",
    "    fig.show()\n",
    "    return fig \n",
    "\n",
    "\n",
    "\n",
    "interactive(plot_compare_lag, var=colu, startyear=list(np.linspace(1984,2019,(2019-1983))), \n",
    "            endyear=list(np.linspace(1984,2019,(2019-1983))),)\n",
    "\n",
    "\n",
    "interactive(plot_compare_lag, var=colu, startyear=list(np.linspace(1984,2019,(2019-1983))), \n",
    "            endyear=list(np.linspace(1984,2019,(2019-1983))),)\n"
   ]
  },
  {
   "cell_type": "code",
   "execution_count": null,
   "metadata": {},
   "outputs": [],
   "source": []
  }
 ],
 "metadata": {
  "kernelspec": {
   "display_name": "Python 3",
   "language": "python",
   "name": "python3"
  },
  "language_info": {
   "codemirror_mode": {
    "name": "ipython",
    "version": 3
   },
   "file_extension": ".py",
   "mimetype": "text/x-python",
   "name": "python",
   "nbconvert_exporter": "python",
   "pygments_lexer": "ipython3",
   "version": "3.7.6"
  }
 },
 "nbformat": 4,
 "nbformat_minor": 4
}
