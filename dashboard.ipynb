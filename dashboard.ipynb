{
 "cells": [
  {
   "cell_type": "code",
   "execution_count": 13,
   "metadata": {
    "extensions": {
     "jupyter_dashboards": {
      "version": 1,
      "views": {
       "default_view": {
        "col": 0,
        "height": 2,
        "hidden": true,
        "row": 38,
        "width": 12
       }
      }
     }
    }
   },
   "outputs": [],
   "source": [
    "#import statements\n",
    "import datetime\n",
    "import numpy as np\n",
    "import pandas as pd\n",
    "import plotly.graph_objects as go\n",
    "import plotly.express as px\n",
    "import pickle\n",
    "import seaborn as sns\n",
    "import matplotlib.pyplot as plt\n",
    "from scipy import stats\n",
    "\n",
    "#from keypass import NOAA_api\n",
    "import pylab as pl\n",
    "from IPython import display\n",
    "\n",
    "from functools import partial\n",
    "import pyproj\n",
    "from sklearn import datasets\n",
    "from sklearn.tree import DecisionTreeRegressor\n",
    "from sklearn.utils import shuffle\n",
    "from sklearn.linear_model import LogisticRegression, LinearRegression\n",
    "from sklearn.ensemble import RandomForestRegressor\n",
    "from sklearn.model_selection import train_test_split\n",
    "from sklearn.metrics import mean_squared_error, r2_score,explained_variance_score\n",
    "from numpy import absolute,mean,std\n",
    "\n",
    "from sklearn.model_selection import cross_val_score\n",
    "from sklearn.model_selection import RepeatedKFold\n",
    "\n",
    "import plotly.graph_objects as go\n",
    "from plotly.subplots import make_subplots\n",
    "import plotly.graph_objects as go\n",
    "import plotly.express as px\n",
    "from ipywidgets import interactive\n",
    "from IPython.display import Image\n",
    "from IPython.core.display import HTML "
   ]
  },
  {
   "cell_type": "markdown",
   "metadata": {
    "extensions": {
     "jupyter_dashboards": {
      "version": 1,
      "views": {
       "default_view": {
        "col": 0,
        "height": 13,
        "hidden": false,
        "row": 0,
        "width": 6
       }
      }
     }
    }
   },
   "source": [
    "# Modeling CO2 Sequestration using the Global Ocean Data Analysis Project (GLODAP) \n",
    "\n",
    "[GitHub Repo](https://github.com/ossana1/DATA606_FinalProject)<br><br>\n",
    "[Project Site](https://sites.google.com/s/14-zXY-tR-4ddTR09NcwHH0VdedwqjA0Q/p/1mnouXuUqS3ud_088LqPGmpKfiSUgTiD3/edit?ths=true)\n",
    "\n",
    "## Project Goal: Carbon Dioxide Concentration Modeling to Fill Dataset Gaps \n",
    "\n",
    "The GLODAP v2.2020 dataset has approximately 65% of entries missing $tCO_2$values. The goal of this project is to use a regression ML model to fill the missing entries in the dataset, using measurements of pH, alkalinity, geolocation, temperature, date, etc. as model inputs. \n",
    "\n",
    "Increasing the robustness of this data set could help predict future net carbon dioxide absorption areas which may be at higher risk for earlier ocean acidification than predicted. It may be possible to protect these areas in ways that slow or mitigate the changes in TCO2  that can damage marine life and a valuable food source for mankind. <br>\n"
   ]
  },
  {
   "cell_type": "code",
   "execution_count": 14,
   "metadata": {
    "extensions": {
     "jupyter_dashboards": {
      "version": 1,
      "views": {
       "default_view": {
        "col": 0,
        "height": 2,
        "hidden": false,
        "row": 74,
        "width": 12
       }
      }
     }
    }
   },
   "outputs": [],
   "source": [
    "#<img src=\"https://raw.githubusercontent.com/ossana1/DATA606_FinalProject/master/images/ProjectMap.png\" \n",
    "#     height=\"1627.19\" width=\"1005.12\" >\n",
    "    "
   ]
  },
  {
   "cell_type": "markdown",
   "metadata": {
    "extensions": {
     "jupyter_dashboards": {
      "version": 1,
      "views": {
       "default_view": {
        "col": 6,
        "height": 9,
        "hidden": false,
        "row": 0,
        "width": 6
       }
      }
     }
    }
   },
   "source": [
    "## Model Performance \n",
    "\n",
    "Model performance on train, test, and validation sets for $tCO_2$ ML random forest regression model ($R^2$ and explained variance of ~0.99 on all sets). The mean square error of the train, test, validation sets were 9.84, 77.0, 68.7, respectively.\n",
    "\n",
    "<img src=\"https://raw.githubusercontent.com/ossana1/DATA606_FinalProject/master/images/MLperformance.png\">"
   ]
  },
  {
   "cell_type": "markdown",
   "metadata": {
    "extensions": {
     "jupyter_dashboards": {
      "version": 1,
      "views": {
       "default_view": {
        "col": 0,
        "height": 13,
        "hidden": false,
        "row": 13,
        "width": 6
       }
      }
     }
    }
   },
   "source": [
    "## A smaller version of the original dataset is available to view  in the first visual. Use this visual to see a condensed version of the data in the data set after the $tCO_2$ is filled with ML RF model.\n",
    "\n",
    "Every 25th row is saved to make the dashboard useable (ie faster). There were 1218966 rows before the trim and 48759 after. There are 33 cruises with <100 datapoints out of 936 cruises, this data loss is acceptable to make the dashboard respond to users in real time.  \n",
    "\n",
    "Select the dataset variable column and year using the dropdowns."
   ]
  },
  {
   "cell_type": "code",
   "execution_count": 15,
   "metadata": {
    "extensions": {
     "jupyter_dashboards": {
      "version": 1,
      "views": {
       "default_view": {
        "col": 0,
        "height": 2,
        "hidden": true,
        "row": 40,
        "width": 12
       }
      }
     }
    }
   },
   "outputs": [],
   "source": [
    "#https://stackoverflow.com/questions/60609760/is-there-a-way-to-import-csv-file-from-github-automatically-to-my-jupyter-notebo (accessed Oct. 08, 2020).\n",
    "\n",
    "#df =pd.read_csv('C:\\\\Users\\\\ossan\\\\DATA606\\\\DATA\\\\TCO2_filled.csv',index_col=0) #ORIGINAL\n",
    "#plotly is too slow with complete set -use this for now \n",
    "url = 'https://raw.githubusercontent.com/ossana1/DATA606_FinalProject/master/data/TCO2_small.csv'\n",
    "df = pd.read_csv(url,index_col=0)\n",
    "dftrim = df \n",
    "#print(len(df))\n",
    "df['year'] =pd.to_numeric( df['year'])\n",
    "df['year'] =df['year'].astype(int)\n",
    "g=df.groupby('year')"
   ]
  },
  {
   "cell_type": "code",
   "execution_count": 16,
   "metadata": {
    "extensions": {
     "jupyter_dashboards": {
      "version": 1,
      "views": {
       "default_view": {
        "col": 0,
        "height": 2,
        "hidden": false,
        "row": 76,
        "width": 12
       }
      }
     }
    }
   },
   "outputs": [],
   "source": [
    "frames = {} # make dictionary of dataframes per year\n",
    "for x,y in g:\n",
    "    frames[x] = y\n",
    "#frames[list(frames.keys())[-1]]"
   ]
  },
  {
   "cell_type": "code",
   "execution_count": 17,
   "metadata": {
    "extensions": {
     "jupyter_dashboards": {
      "version": 1,
      "views": {
       "default_view": {
        "col": 0,
        "height": 2,
        "hidden": true,
        "row": 42,
        "width": 12
       }
      }
     }
    }
   },
   "outputs": [],
   "source": [
    "#make variable list for viusla \n",
    "var = df.columns \n",
    "years = list(frames.keys())\n",
    "list_updatemenus=[];temp_dict={}\n",
    "#make dictionaries for dropdowns for visual\n",
    "for n, year in enumerate(years):\n",
    "    visible = [False] * len(years)\n",
    "    visible[n] = True\n",
    "    temp_dict = dict(label = str(year),method = 'update',\n",
    "                 args = [{'visible': visible},{'title': 'Year %d' % year}])\n",
    "    list_updatemenus.append(temp_dict)\n",
    "    \n",
    "list_c=[];c_dict={}\n",
    "for n, year in enumerate(var):\n",
    "    visible = [False] * len(var)\n",
    "    visible[n] = True\n",
    "    c_dict = dict(label = str(var),method = 'update',\n",
    "                 args = [{'visible': visible}, {'title': var}])\n",
    "    list_c.append(c_dict)\n",
    "    "
   ]
  },
  {
   "cell_type": "code",
   "execution_count": 18,
   "metadata": {
    "extensions": {
     "jupyter_dashboards": {
      "version": 1,
      "views": {
       "default_view": {
        "col": 0,
        "height": 15,
        "hidden": false,
        "row": 26,
        "width": 6
       }
      }
     }
    }
   },
   "outputs": [
    {
     "data": {
      "application/vnd.jupyter.widget-view+json": {
       "model_id": "452409639f03448a9018ed7b3849e387",
       "version_major": 2,
       "version_minor": 0
      },
      "text/plain": [
       "interactive(children=(Dropdown(description='var', options=('Cruise', 'Station', 'Year', 'Month', 'Day', 'Botto…"
      ]
     },
     "metadata": {},
     "output_type": "display_data"
    }
   ],
   "source": [
    "#make list for nicer formatted columns for visuals \n",
    "col=['Cruise', 'Station',  'Year', 'Month', 'Day', 'Bottom Depth', 'Max Sample Depth', 'Pressure', 'Depth',\n",
    "       'Potential Temperature', 'theta', 'Salinity', 'Potential Temp 0m', 'Potential Temp 1km', 'Potential Temp 2km',\n",
    "       'Potential Temp 3km', 'Neutral Density', 'Oxygen', 'Actual O2 Utilization', 'Nitrate', 'Nitrite', 'Silicate',\n",
    "       'Phosphate', 'Total Alkalinity', 'pH at STP', 'pH in Situ', 'tco2']\n",
    "\n",
    "actu=['cruise', 'station', 'year', 'month', 'day', 'bottomdepth', 'maxsampdepth', 'pressure', 'depth',\n",
    "       'temperature', 'theta', 'salinity', 'sigma0', 'sigma1', 'sigma2',\n",
    "       'sigma3', 'gamma', 'oxygen', 'aou', 'nitrate', 'nitrite', 'silicate',\n",
    "       'phosphate', 'talk', 'phts25p0', 'phtsinsitutp', 'tco2']\n",
    "unit=[ 'Cruise ID', 'm', 'm','bar', 'm', 'C', 'C', 'g/kg', 'kg m-3',\n",
    "       'kg m-3', 'kg m-3', 'kg m-3', 'kg m-3', 'umol kg-1', 'umol kg-1', 'umol kg-1','umol kg-1', \n",
    "      'umol kg-1', 'umol kg-1', 'umol kg-1', 'pH', 'pH','umol kg-1']\n",
    "\n",
    "def plot_compare_lag(var, year):\n",
    "    #make figure \n",
    "    fig5 =go.Figure(go.Scattergeo(locationmode ='ISO-3',lon=dftrim[\"longitude\"],\n",
    "                                  lat=dftrim[\"latitude\"],#color=var,\n",
    "        mode ='markers',marker = dict(\n",
    "            size = 2, color = dftrim[actu[col.index(var)]], colorscale = 'Inferno',\n",
    "            cmax = df[actu[col.index(var)]].max(),\n",
    "        colorbar = dict( ticks = \"outside\",title=unit[col.index(var)],ypad=0,len=.8\n",
    "        ))),\n",
    "\n",
    "    layout= dict(title ='<b>Historical Data- Variable: ' +var + ' | Year:'  + str(year.astype(str)[0:4]) +'</b>')  )\n",
    "\n",
    "    fig5.show()\n",
    "    return fig5 \n",
    "interactive(plot_compare_lag, var=col, \n",
    "            year=list(np.linspace(1984,2019,(2019-1983))),  )\n"
   ]
  },
  {
   "cell_type": "markdown",
   "metadata": {
    "extensions": {
     "jupyter_dashboards": {
      "version": 1,
      "views": {
       "default_view": {
        "col": 0,
        "height": 6,
        "hidden": false,
        "row": 52,
        "width": 4
       }
      }
     }
    }
   },
   "source": [
    "## View a 3D depth plot to see variable changes with depth, latitude, and longitude. (Below)"
   ]
  },
  {
   "cell_type": "code",
   "execution_count": 19,
   "metadata": {
    "extensions": {
     "jupyter_dashboards": {
      "version": 1,
      "views": {
       "default_view": {
        "col": 0,
        "height": 16,
        "hidden": false,
        "row": 58,
        "width": 12
       }
      }
     }
    }
   },
   "outputs": [
    {
     "data": {
      "application/vnd.jupyter.widget-view+json": {
       "model_id": "bafa20b40e7d4e269db78f27add5296a",
       "version_major": 2,
       "version_minor": 0
      },
      "text/plain": [
       "interactive(children=(Dropdown(description='var', options=('Potential Temperature', 'theta', 'Salinity', 'Pote…"
      ]
     },
     "metadata": {},
     "output_type": "display_data"
    }
   ],
   "source": [
    "cold=[   'Potential Temperature', 'theta', 'Salinity', 'Potential Temp 0m', 'Potential Temp 1km', 'Potential Temp 2km',\n",
    "       'Potential Temp 3km', 'Neutral Density', 'Oxygen', 'Actual O2 Utilization', 'Nitrate', 'Nitrite', 'Silicate',\n",
    "       'Phosphate', 'Total Alkalinity', 'pH at STP', 'pH in Situ', 'tco2']\n",
    "\n",
    "actud=['temperature', 'theta', 'salinity', 'sigma0', 'sigma1', 'sigma2',\n",
    "       'sigma3', 'gamma', 'oxygen', 'aou', 'nitrate', 'nitrite', 'silicate',\n",
    "       'phosphate', 'talk', 'phts25p0', 'phtsinsitutp', 'tco2']\n",
    "unitd=['C', 'C', 'g/kg', 'kg m-3',\n",
    "       'kg m-3', 'kg m-3', 'kg m-3', 'kg m-3', 'umol kg-1', 'umol kg-1', 'umol kg-1','umol kg-1', \n",
    "      'umol kg-1', 'umol kg-1', 'umol kg-1', 'pH', 'pH','umol kg-1']\n",
    "\n",
    "def depthfigure(var,year):\n",
    "    dfd= dftrim[dftrim['year'] ==year]\n",
    "    v = actu[cold.index(var)]\n",
    "    figdepth = go.Figure(data=[go.Scatter3d( x=dfd.longitude,y=dfd.latitude,z=dfd.depth,\n",
    "        mode='markers',\n",
    "        marker=dict(colorbar = dict( ticks = \"outside\",title=unitd[cold.index(var)],ypad=0,len=.8),\n",
    "            size=3,\n",
    "            color=dfd[v],# set color to an array/list of desired values\n",
    "            colorscale='Viridis',   # choose a colorscale\n",
    "            opacity=0.8) )])\n",
    "    \n",
    "    figdepth.update_layout(title_text='<b>Depth Plot: '+ var+'</b>' +' '+str(year)[0:4],\n",
    "                          scene=dict(xaxis=dict(title='Longitude'),yaxis=dict(title='Latitude'),\n",
    "                                    zaxis=dict(title='Depth (m)')))\n",
    "\n",
    "    figdepth.show()\n",
    "    \n",
    "\n",
    "interactive(depthfigure, var=cold,year=list(np.linspace(1984,2019,(2019-1983))), )\n"
   ]
  },
  {
   "cell_type": "markdown",
   "metadata": {
    "extensions": {
     "jupyter_dashboards": {
      "version": 1,
      "views": {
       "default_view": {
        "col": 6,
        "height": 9,
        "hidden": false,
        "row": 17,
        "width": 6
       }
      }
     }
    }
   },
   "source": [
    "## See the changes over the years with this geospatial visual. \n",
    "\n",
    "The complete (filled) dataset is first grouped by latitude and longitude and averaged per year. The latitude and longitude of the ending year in the query is used with sklearn BallTree to find (haversine distance) the closest cruise geolocation in the startinng year. The percent difference between the starting year and end year variable of choice is displayed (end year- start year value). One shortcoming is that depth of the samples are not taken into account at this time.\n",
    "\n",
    "Temperature was removed because the valus are an average over a year and do not consider depth or season. The large percent changes in O2 concentration and oxygen utilization are likely for the same reasons. "
   ]
  },
  {
   "cell_type": "code",
   "execution_count": 20,
   "metadata": {
    "extensions": {
     "jupyter_dashboards": {
      "version": 1,
      "views": {
       "default_view": {
        "col": 6,
        "height": 15,
        "hidden": false,
        "row": 26,
        "width": 6
       }
      }
     }
    },
    "scrolled": true
   },
   "outputs": [
    {
     "data": {
      "application/vnd.jupyter.widget-view+json": {
       "model_id": "84263769c4964ec28277b232c52dae5b",
       "version_major": 2,
       "version_minor": 0
      },
      "text/plain": [
       "interactive(children=(Dropdown(description='var', options=('Salinity', 'Potential Temp 0m', 'Potential Temp 1k…"
      ]
     },
     "metadata": {},
     "output_type": "display_data"
    }
   ],
   "source": [
    "url = 'https://raw.githubusercontent.com/ossana1/DATA606_FinalProject/master/data/Groupedlatlongyr.csv'\n",
    "latlong= pd.read_csv(url,index_col=0)\n",
    "latlong.drop(columns=['cruise','station','day','month','Fill','cast'],inplace=True)\n",
    "#clean up columns for labels \n",
    "colu=['Salinity', 'Potential Temp 0m', 'Potential Temp 1km', 'Potential Temp 2km',\n",
    "       'Potential Temp 3km', 'Neutral Density', 'Oxygen', 'Actual O2 Utilization', 'Nitrate', 'Nitrite', 'Silicate',\n",
    "       'Phosphate', 'Total Alkalinity', 'pH at STP', 'pH in Situ', 'tco2']\n",
    "actua=[  'salinity', 'sigma0','sigma1', 'sigma2', 'sigma3', 'gamma', 'oxygen', 'aou',\n",
    "       'nitrate','nitrite', 'silicate', 'phosphate', 'talk', 'phts25p0', 'phtsinsitutp','tco2']\n",
    "\n",
    "unit2=[  'g/kg', 'kg m-3','kg m-3', 'kg m-3', 'kg m-3', 'kg m-3', 'umol kg-1', 'umol kg-1', \n",
    "      'umol kg-1','umol kg-1', 'umol kg-1', 'umol kg-1', 'umol kg-1', 'pH', 'pH','umol kg-1']\n",
    "%matplotlib inline\n",
    "\n",
    "from sklearn.neighbors import BallTree\n",
    "\n",
    "def chang(var,start,end,df):\n",
    "    start_year=latlong[latlong.year ==start].reset_index(); end_year=latlong[latlong.year ==end].reset_index()\n",
    "    query_lats = end_year.latitude;query_lons = end_year.longitude\n",
    "    \n",
    "    varx = actua[colu.index(var)] \n",
    "    #search for closest lat and long \n",
    "    ###https://stackoverflow.com/questions/10549402/kdtree-for-longitude-latitude\n",
    "    bt = BallTree(np.deg2rad(start_year[['latitude', 'longitude']].values), metric='haversine')\n",
    "    distances, indices = bt.query(np.deg2rad(np.c_[query_lats, query_lons]))\n",
    "\n",
    "    i = pd.DataFrame(list(zip(distances,indices)),columns=['distances','indices'])\n",
    "    end_year['compare']  =i.iloc[:,1].astype(int)\n",
    "    end_year['data'] = start_year.loc[end_year['compare'],varx].values\n",
    "    #calculate the percent change (x2-x1)/x1\n",
    "    end_year['diff'] =(end_year[varx]- end_year['data'])/end_year.data*100\n",
    "    return end_year\n",
    "\n",
    "def plot_compare_lag(var, startyear,endyear):\n",
    "    change = chang(var,startyear,endyear,latlong)\n",
    "    fig =go.Figure(go.Scattergeo(locationmode ='ISO-3',lon=change[\"longitude\"],\n",
    "                                  lat=change[\"latitude\"],#color=var,\n",
    "        mode ='markers',marker = dict(\n",
    "            size = 4, color = change['diff'], colorscale = 'Inferno',\n",
    "        colorbar = dict( ticks = \"outside\",title='%Change' +' '+unit2[colu.index(var)],ypad=0,len=.8\n",
    "                       ) )), #cmax = 1.5*change['diff'].max(),\n",
    "    layout= dict(title ='<b>Variable % Change: ' +var + ' | Start Year:'  + \n",
    "                 str(startyear.astype(str)[0:4]) +'| End Year:'  + \n",
    "                 str(endyear.astype(str)[0:4]) +'</b>') ,)\n",
    "    fig.show()\n",
    "    return fig \n",
    "\n",
    "\n",
    "\n",
    "interactive(plot_compare_lag, var=colu, startyear=list(np.linspace(1984,2019,(2019-1983))), \n",
    "            endyear=list(np.linspace(1984,2019,(2019-1983))),)\n"
   ]
  },
  {
   "cell_type": "markdown",
   "metadata": {
    "extensions": {
     "jupyter_dashboards": {
      "version": 1,
      "views": {
       "default_view": {
        "col": 0,
        "height": 11,
        "hidden": false,
        "row": 41,
        "width": 4
       }
      }
     }
    }
   },
   "source": [
    "## See the percent change every 1 or 4 years as a boxplot. \n",
    "\n",
    "The complete (filled) dataset is first grouped by latitude and longitude and averaged per year. The latitude and longitude of the ending year in the query is used with sklearn BallTree to find (haversine distance) the closest cruise geolocation in the startinng year. The percent difference between the starting year and end year variable. The boudnign end year is set as 2018 due to the limited 2019 data.\n",
    "\n",
    "### The dataset is labeled into ocean regions as shown. Toggle the hue drop down to view by latitude range or major ocean region. "
   ]
  },
  {
   "cell_type": "markdown",
   "metadata": {
    "extensions": {
     "jupyter_dashboards": {
      "version": 1,
      "views": {
       "default_view": {
        "col": 6,
        "height": 8,
        "hidden": false,
        "row": 9,
        "width": 6
       }
      }
     }
    }
   },
   "source": [
    "<img src=\"https://github.com/ossana1/DATA606_FinalProject/blob/master/images/OceanBoundgeo.png?raw=true\">\n"
   ]
  },
  {
   "cell_type": "code",
   "execution_count": 21,
   "metadata": {
    "extensions": {
     "jupyter_dashboards": {
      "version": 1,
      "views": {
       "default_view": {
        "col": 4,
        "height": 17,
        "hidden": false,
        "row": 41,
        "width": 8
       }
      }
     }
    },
    "scrolled": true
   },
   "outputs": [
    {
     "data": {
      "application/vnd.jupyter.widget-view+json": {
       "model_id": "5659a408424e468c9e45ca1810cbcacd",
       "version_major": 2,
       "version_minor": 0
      },
      "text/plain": [
       "interactive(children=(Dropdown(description='Variable', options=('TCO2', 'Salinity', 'Gamma', 'Oxygen', 'Phosph…"
      ]
     },
     "metadata": {},
     "output_type": "display_data"
    }
   ],
   "source": [
    "delta4yr='https://github.com/ossana1/DATA606_FinalProject/blob/master/data/ChangeEvery4years.xlsx?raw=true'\n",
    "deltayr='https://github.com/ossana1/DATA606_FinalProject/blob/master/data/ChangeYeartoyear.xlsx?raw=true'\n",
    "df4= pd.read_excel(delta4yr);df1= pd.read_excel(deltayr)\n",
    "deltas=[ 'tco2diff','salinitydiff','gammadiff',\n",
    "       'oxygendiff', 'phosphatediff', 'talkdiff', 'phts25p0diff', 'phtsinsitutpdiff']\n",
    "\n",
    "realname=['TCO2','Salinity','Gamma','Oxygen','Phosphate','Total Alkalinity',\n",
    "         'pH @ STP','pH in Situ']\n",
    "\n",
    "def plot_box(Variable,Hue,Interval):\n",
    "    #make figure\n",
    "    if Interval =='4yrs':\n",
    "        df =df4; a = '4'\n",
    "    else:\n",
    "        df = df1; a='1'\n",
    "    var = deltas[realname.index(Variable)]\n",
    "    if Hue =='Major Ocean Region':\n",
    "        c = 'major'\n",
    "    else: \n",
    "        c = 'Latitude Range'\n",
    "    \n",
    "    box=go.Figure(px.box(df, x='Year', y=var,color=c))\n",
    "    box.update_yaxes(title_text='Percent Change for ' +realname[deltas.index(var)])\n",
    "    box.update_xaxes(title_text='Year Range')\n",
    "    box.update_layout(title_text='<b>Percent Change Every '+a+' Years: ' +realname[deltas.index(var)]+'</b>')\n",
    "    box.show()\n",
    "    return box\n",
    "\n",
    "\n",
    "interactive(plot_box, Variable=realname, Interval=['4yrs','1yrs'],Hue = ['Major Ocean Region','Latitude Region'])\n",
    "\n"
   ]
  }
 ],
 "metadata": {
  "extensions": {
   "jupyter_dashboards": {
    "activeView": "default_view",
    "version": 1,
    "views": {
     "default_view": {
      "cellMargin": 10,
      "defaultCellHeight": 40,
      "maxColumns": 12,
      "name": "active_view",
      "type": "grid"
     }
    }
   }
  },
  "kernelspec": {
   "display_name": "Python 3",
   "language": "python",
   "name": "python3"
  },
  "language_info": {
   "codemirror_mode": {
    "name": "ipython",
    "version": 3
   },
   "file_extension": ".py",
   "mimetype": "text/x-python",
   "name": "python",
   "nbconvert_exporter": "python",
   "pygments_lexer": "ipython3",
   "version": "3.7.6"
  }
 },
 "nbformat": 4,
 "nbformat_minor": 4
}
